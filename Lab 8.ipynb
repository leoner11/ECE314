{
 "cells": [
  {
   "cell_type": "markdown",
   "metadata": {},
   "source": [
    "# Lab 8: Applications of Markov chains and graphs"
   ]
  },
  {
   "cell_type": "markdown",
   "metadata": {},
   "source": [
    "In this lab we will be looking at some applications of Markov chains and graphs, namely, the page rank algorithm, an introduction to statistical inference with a Markov model, and cache replacement policies.\n",
    "\n",
    "Below is the code to import the modules we will be using throughout this lab."
   ]
  },
  {
   "cell_type": "code",
   "execution_count": 2,
   "metadata": {},
   "outputs": [
    {
     "name": "stdout",
     "output_type": "stream",
     "text": [
      "Modules Imported!\n",
      "Markov_chain class defined\n"
     ]
    }
   ],
   "source": [
    "%matplotlib inline\n",
    "import matplotlib.pyplot as plt\n",
    "import numpy as np\n",
    "import scipy as sp\n",
    "import scipy.stats as st\n",
    "import csv as csv\n",
    "import networkx as nx\n",
    "print (\"Modules Imported!\")\n",
    "\n",
    "# Markov chain object similar to random variable objects in scipy.stats (st)\n",
    "\n",
    "class Markov_chain:\n",
    "    def __init__(self, P, pi0):   # The transition probability matrix and initial distribution are passed\n",
    "        self.P = P \n",
    "        self.pi0 = pi0\n",
    "        self.n=np.size(pi0)\n",
    "        if np.shape(P) != (self.n,self.n):\n",
    "            print (\"Error: Shape of P doesn't match pi0\")\n",
    "   \n",
    "    def rvs(self,T):     # produce a length T segment of variates of the random process\n",
    "        X = [np.random.choice(self.n, p=self.pi0)]  # p is a needed input for np.random.choice()\n",
    "        for t in range(1,T):\n",
    "            X.append(np.random.choice(self.n, p=self.P[X[t-1],:])) \n",
    "        return np.array(X)\n",
    "    \n",
    "    def pi(self,t):    # produce probability distribution at time t\n",
    "        pi_new=self.pi0\n",
    "        for s in range(t):\n",
    "            pi_new = np.dot(pi_new, self.P)    # one step update of probability distribution\n",
    "        return pi_new\n",
    "print (\"Markov_chain class defined\")"
   ]
  },
  {
   "cell_type": "markdown",
   "metadata": {},
   "source": [
    "## Page Rank Algorithm"
   ]
  },
  {
   "cell_type": "markdown",
   "metadata": {},
   "source": [
    "Now that we see how to generate, manipulate, and plot graphs, we can investigate Page's ranking algorithm for webpages, which uses a Markov chain based on the graphical structure of the set of web pages on the Internet.  Suppose now that we have a directed graph that represents a set of web pages; a link from one webpage to another designates that the first webpage has a hyperlink to the second webpage.   Then webpages that have more incoming edges should have a higher rank.   If the webpages pointing into a particular webpage have higher ranks, then the ranking of the webpage pointed to should be even higher.    These ideas are encapsulated in the pagerank algorithm, which is based on a Markov chain with the following one-step transition probability matrix:  \n",
    "$p_{i,j} = \\frac{dA_{i,j}}{\\mbox{out_degree}(i)} +  \\frac{1-d}{n}.$  Here $A$ represents the adjacency matrix of the graph, so that $A_{i,j}=1$ if there is an edge from $i$ to $j,$  and $A_{i,j}=0$ otherwise.\n",
    "Originally Google used $d$=85%. That is, if the current state is $i$, then a biased coin is flipped with heads showing with probability $d.$   If heads shows, then the next state is one of the nodes pointed to by node $i,$  with all choices having equal probability.  If tails shows, the next node is selected at random from among all nodes in the graph, each with equal probability.  There is a slight problem about what to do if a node has outdegree zero because in that case the first term is not well defined; you will be asked to address this problem.\n",
    "\n",
    "The following code generates a random directed graph, and then ranks the popularity of the nodes in the graph using the pagerank method. The code uses the adjacency matrix of the graph, mentioned above. Instead of using the equilibrium distribution for the Markov chain, we use the probability distribution of the chain after 100 time steps.  The row sums of the adjacency matrix give the outdegrees.  One way to think about it is that the Markov chain models a person randomly clicking through webpages.  Pages are ranked according to the probability distribution of which page the person has reached after 100 time steps."
   ]
  },
  {
   "cell_type": "code",
   "execution_count": 31,
   "metadata": {},
   "outputs": [
    {
     "data": {
      "image/png": "[encoded data removed]",
      "text/plain": [
       "<Figure size 432x288 with 1 Axes>"
      ]
     },
     "metadata": {},
     "output_type": "display_data"
    },
    {
     "name": "stdout",
     "output_type": "stream",
     "text": [
      "[[0.2275     0.2275     0.2275     0.015      0.015      0.015\n",
      "  0.015      0.2275     0.015      0.015     ]\n",
      " [0.015      0.29833333 0.29833333 0.015      0.015      0.29833333\n",
      "  0.015      0.015      0.015      0.015     ]\n",
      " [0.29833333 0.015      0.29833333 0.015      0.015      0.015\n",
      "  0.015      0.015      0.29833333 0.015     ]\n",
      " [0.44       0.015      0.015      0.44       0.015      0.015\n",
      "  0.015      0.015      0.015      0.015     ]\n",
      " [0.015      0.015      0.44       0.015      0.44       0.015\n",
      "  0.015      0.015      0.015      0.015     ]\n",
      " [0.015      0.015      0.015      0.015      0.015      0.865\n",
      "  0.015      0.015      0.015      0.015     ]\n",
      " [0.015      0.29833333 0.015      0.015      0.015      0.015\n",
      "  0.29833333 0.015      0.015      0.29833333]\n",
      " [0.015      0.015      0.015      0.015      0.015      0.015\n",
      "  0.015      0.865      0.015      0.015     ]\n",
      " [0.015      0.015      0.015      0.015      0.015      0.015\n",
      "  0.015      0.015      0.865      0.015     ]\n",
      " [0.015      0.015      0.015      0.015      0.015      0.015\n",
      "  0.015      0.015      0.015      0.865     ]]\n",
      "rank vector [ 6.   7.   5.   8.5  8.5  2.  10.   3.   1.   4. ]\n",
      "Simulated state sequence:  [5 5 5 5 5 5 5 5 5 5 5 5 5 8 8 8 8 8 8 8 8 8 8 8 2 0 0 7 7 7 8 8 8 8 8 8 8\n",
      " 8 9 6 9 9 9 9 9 9 9 9 0 2 2 8 8 8 8 8 8 8 8 8 8 8 8 8 8 8 8 8 8 8 8 3 3 0\n",
      " 1 5 5 2 8 8 8 8 8 8 8 8 8 8 8 8 8 8 8 8 8 8 8 3 0 1]\n"
     ]
    },
    {
     "name": "stderr",
     "output_type": "stream",
     "text": [
      "C:\\Users\\Leonard\\AppData\\Local\\Temp\\ipykernel_30492\\726389146.py:14: FutureWarning: adjacency_matrix will return a scipy.sparse array instead of a matrix in Networkx 3.0.\n",
      "  A = np.array(nx.adjacency_matrix(G).toarray()) + np.identity(n)\n"
     ]
    }
   ],
   "source": [
    "# A simulation of the pagerank algorithm\n",
    "#import networkx as nx\n",
    "\n",
    "# Create a random directed graph object and plot it:\n",
    "G = nx.scale_free_graph(10, alpha=0.2, beta=0.4, gamma=0.4)   \n",
    "nx.draw(G,with_labels=1)\n",
    "plt.show()\n",
    "\n",
    "# Next we add identity matrix to the adjacency matrix, which\n",
    "# is equivalent to adding a self loop to each node.\n",
    "# This is a way to make the out degree of every node nonzero.\n",
    "# nx returns adjacency matrix in Scipy sparse format; toarray() converts to dense format\n",
    "n = G.number_of_nodes()\n",
    "A = np.array(nx.adjacency_matrix(G).toarray()) + np.identity(n)\n",
    "\n",
    "# Identify nodes with zero out-degree\n",
    "out_degrees = A.sum(axis=1)\n",
    "zero_out_degree_nodes = np.where(out_degrees == 0)[0]\n",
    "\n",
    "# Create a copy of the adjacency matrix to avoid modifying the original\n",
    "A_modified = A.copy()\n",
    "\n",
    "# Update rows corresponding to nodes with zero out-degree\n",
    "A_modified[zero_out_degree_nodes, :] = 1\n",
    "          \n",
    "# Note: The random \"scale free\" graph here allows more than one edge between two nodes. Therefore, you may see entries \n",
    "# larger than one in matrix A. That is OK, it just means that are more than one hyperlinks from one website to another. \n",
    "    \n",
    "d=0.85    # continuation parameter for pagerank\n",
    " # Next, define transition probability matrix for page rank algoritm\n",
    "P_modified = d * A_modified / A_modified.sum(axis=1)[:, np.newaxis] + ((1 - d) / n) * np.ones((n, n))\n",
    "pi0=np.ones((n))/n \n",
    "\n",
    "markov=Markov_chain(P, pi0)  # Uses Markov_chain class defined in first code cell above\n",
    "    \n",
    "print (\"rank vector\", st.rankdata(-markov.pi(100)))  # larger probabilities map to smaller numbers\n",
    "print (\"Simulated state sequence: \", markov.rvs(100))   # Prints simulation of Markov chain"
   ]
  },
  {
   "cell_type": "markdown",
   "metadata": {},
   "source": [
    "**<SPAN style=\"BACKGROUND-COLOR: #C0C0C0\">Problem 1:</SPAN>** Run the above code and examine the output for a few graphs.  The nodes are numbered from 0 to n-1, and the rank vector gives the popularity rank for each node.  For example, the position of the one in the rank vector denotes the most popular node.\n",
    "<ol><li> Qualitatively comment on the graphs. Where does it appear that the most popular nodes are?</li>\n",
    "<li> The above code uses a particular method to deal with nodes that have no neighbors.   Perhaps it is not fair, because it rewards nodes that have no links to other nodes.   Propose and implement another method for dealing with nodes that have no outgoing links that you think is better.  Explain why you think your method is better.</li>"
   ]
  },
  {
   "cell_type": "markdown",
   "metadata": {},
   "source": [
    "__Answer:__ \n",
    "1. Generally, it seems that node 0,1,2 are the most popular since it has the most inflow and outflow connection\n",
    "2. To address the concern that the current method might unfairly reward nodes with no outgoing links, an alternative approach is to distribute the \"lost\" probability mass equally among all nodes. This can be achieved by normalizing the transition probability matrix differently for nodes with no outgoing links. "
   ]
  },
  {
   "cell_type": "code",
   "execution_count": null,
   "metadata": {
    "collapsed": true
   },
   "outputs": [],
   "source": [
    "# Your code here\n",
    "\n",
    "# Problem 2\n",
    "# A simulation of the pagerank algorithm\n",
    "#import networkx as nx\n",
    "\n",
    "# Create a random directed graph object and plot it:\n",
    "G = nx.scale_free_graph(10, alpha=0.2, beta=0.4, gamma=0.4)   \n",
    "nx.draw(G,with_labels=1)\n",
    "plt.show()\n",
    "\n",
    "# Next we add identity matrix to the adjacency matrix, which\n",
    "# is equivalent to adding a self loop to each node.\n",
    "# This is a way to make the out degree of every node nonzero.\n",
    "# nx returns adjacency matrix in Scipy sparse format; toarray() converts to dense format\n",
    "n = G.number_of_nodes()\n",
    "A = np.array(nx.adjacency_matrix(G).toarray()) + np.identity(n)\n",
    "          \n",
    "# Note: The random \"scale free\" graph here allows more than one edge between two nodes. Therefore, you may see entries \n",
    "# larger than one in matrix A. That is OK, it just means that are more than one hyperlinks from one website to another. \n",
    "    \n",
    "d=0.85    # continuation parameter for pagerank\n",
    " # Next, define transition probability matrix for page rank algoritm\n",
    "P=d*A/A.sum(axis=1)[:,np.newaxis]  + ((1-d)/n)*np.ones((n,n))   # This line of code is crucial to answer part 2 of Problem 1. \n",
    "pi0=np.ones((n))/n \n",
    "\n",
    "markov=Markov_chain(P, pi0)  # Uses Markov_chain class defined in first code cell above\n",
    "    \n",
    "print (\"rank vector\", st.rankdata(-markov.pi(100)))  # larger probabilities map to smaller numbers\n",
    "print (\"Simulated state sequence: \", markov.rvs(100))   # Prints simulation of Markov chain"
   ]
  },
  {
   "cell_type": "markdown",
   "metadata": {},
   "source": [
    "**<SPAN style=\"BACKGROUND-COLOR: #C0C0C0\">End of Problem 1</SPAN>**"
   ]
  },
  {
   "cell_type": "markdown",
   "metadata": {},
   "source": [
    "## Some statistical inference for Markov chains"
   ]
  },
  {
   "cell_type": "markdown",
   "metadata": {},
   "source": [
    "To prepare for statistical inference for Markov chains, we begin by considering the maximum likelihood (ML) estimator for the distribution of a  sequence of independent, identically distributed discrete random variables.   Specifically, suppose p=[p[0], . . . , p[n-1]] is a probability vector for random variables taking values in {0,1, . . . , n-1}.   That is, p[i] is the probability a generated random variable is equal to i.\n",
    "Suppose that you don't know what the vector p is, but you observe a sequence of T independent random variables that were generated using p.  How would you estimate p?   A natural guess is to use p_hat[i]=(number of samples equal to i)/T.   Basically, p_hat is just a normalized histogram of p.  It can be shown that this choice of p_hat is the maximum likelihood (ML) estimator of p.  (The usual proof is to use a Lagrange multiplier for the constraint p[0]+ . . . + p[n-1]=1.)  Try running the following code several times and see how well p_hat approximates p.  If T is increased the estimates become more accurate."
   ]
  },
  {
   "cell_type": "code",
   "execution_count": 4,
   "metadata": {},
   "outputs": [
    {
     "name": "stdout",
     "output_type": "stream",
     "text": [
      "    p: [0.2 0.2 0.4 0.2]\n",
      "p_hat: [0.19 0.25 0.4  0.16] (estimate of p based on  100 values)\n",
      "Sum of squared errors: 0.004199999999999999\n"
     ]
    }
   ],
   "source": [
    "p=np.array([0.2,0.2,0.4,0.2])\n",
    "c=np.arange(np.size(p))\n",
    "Xcstm = st.rv_discrete(values = (c,p))\n",
    "T=100  # Number of values generated\n",
    "values = Xcstm.rvs(size = T)\n",
    "# print (values)\n",
    "p_hat=np.bincount(values,minlength=np.size(p))/1./np.size(values)\n",
    "print (\"    p:\", p)\n",
    "print (\"p_hat:\", p_hat,\"(estimate of p based on \", T, \"values)\")\n",
    "print (\"Sum of squared errors:\", np.linalg.norm(p-p_hat)**2.)  # the norm method calculates the 2-norm by default"
   ]
  },
  {
   "cell_type": "markdown",
   "metadata": {},
   "source": [
    "The same principle can be used to estimate the transition probability matrix for a Markov chain.  \n",
    "<br>**<SPAN style=\"BACKGROUND-COLOR: #C0C0C0\">Problem 2:</SPAN>**   Generate a length T simulation of a four state Markov chain using some initial distriubution and some 4x4 transition probability matrix P.  Select P to have some zeros in it, but make sure the process can eventually get to any state starting from any other state.  Then, taking the generated sequence as the only input, generate an estimate, P_hat, of the matrix P.   Your estimator should be more accurate for larger values of T.  (Hint:  For a given state i, the ith row of P is the probability distribution of the next state, given the current state is i.  So to estimate the ith row of P, you should focus on the states that occur just after state i is visited.)"
   ]
  },
  {
   "cell_type": "code",
   "execution_count": 61,
   "metadata": {
    "collapsed": true
   },
   "outputs": [
    {
     "name": "stdout",
     "output_type": "stream",
     "text": [
      "P_hat\n",
      "[[0.78231293 0.21244813 0.         0.        ]\n",
      " [0.         0.7879668  0.19326778 0.        ]\n",
      " [0.         0.         0.80673222 0.19706903]\n",
      " [0.2172619  0.         0.         0.80293097]]\n"
     ]
    }
   ],
   "source": [
    "# Your code here\n",
    "\n",
    "P = np.array(\n",
    "     [[0.8, 0.2, 0, 0],\n",
    "     [0, 0.8, 0.2, 0],\n",
    "     [0, 0, 0.8, 0.2],\n",
    "     [0.2, 0, 0, 0.8]])\n",
    "\n",
    "pi0 = np.array([1,0,0,0])\n",
    "my_markov = Markov_chain(P, pi0)\n",
    "T = 10000\n",
    "values = my_markov.rvs(T)\n",
    "\n",
    "template = np.zeros((4,4))\n",
    "\n",
    "for index in range(T-1):\n",
    "    template[values[index]][values[index+1]] += 1\n",
    "\n",
    "p_hat = template/template.sum(axis = 1)[:]\n",
    "print(\"P_hat\")\n",
    "print(p_hat)\n",
    "\n",
    "# p_hat = np.zeros(0,0)\n",
    "\n",
    "# p_hat=np.bincount(values,minlength=np.size(P))/1./np.size(values)\n",
    "# print(p_hat)\n",
    "\n"
   ]
  },
  {
   "cell_type": "markdown",
   "metadata": {},
   "source": [
    "**<SPAN style=\"BACKGROUND-COLOR: #C0C0C0\">End of Problem 2</SPAN>**"
   ]
  },
  {
   "cell_type": "markdown",
   "metadata": {},
   "source": [
    "## Cache Replacement Policy:"
   ]
  },
  {
   "cell_type": "markdown",
   "metadata": {},
   "source": [
    "A cache is used to hold information so the information can be retrieved more quickly than going through memory. Suppose you have a memory or server that holds $n$ elements and you have a cache that holds $k$ elements ($n>k$). When you want to retrieve an item, you first search through the cache. If the item is in the cache, it is considered a hit. If it's not in the cache, it's considered a miss. When a miss occurs, you have the longer process of searching for the item in memory. A key question for cache design is what items to keep in the cache? When you have a miss should you place that item in the cache?  If so, what item in the cache should you replace (i.e. drop from the cache to make room)?  Since it's unlikely the items will be uniformly searched for (some items will be more popular than others) many policies have been developed to try and maximize the liklihood that a requested item will be in the cache. A few are listed below:\n",
    "<ol>\n",
    "    <li> Belady's Algorithm: This is considered to be the most efficient algorithm possible. When a miss occurs, it retrieves that item and replaces an item in the cache with it. The item that's replaced is the item that will not be retrieved for the longest time in the future. It is a practically impossible algorithm because it requires knowledge of how far in the future an item will needed. </li><br>\n",
    "    <li>Least Recently Used (LRU): You can think of this algorithm as a first in first out queue. When a miss occurs, that element gets retrieved from memory and gets put at the top of that queue. It replaces the item in the cache that was retrieved the longest time ago. When a hit occurs, that item gets put back to the top of the queue.</li><br>\n",
    "    <li>Random Replacement (RR): This algortihm is similiar to the LRU algorithm except the miss replaces an element that was previously in the cache, selected uniformly at random.</li><br>\n",
    "    <li>Least Frequently Used (LFU): In this algorithm the miss replaces the element in the cache that is the least frequently used. It's a little more complicated because you need to keep a count on the number of hits an element in the cache gets over a certain time period, or something similar. </li><br>\n",
    "</ol>\n",
    "\n",
    "Let's try and simulate the Least Recently Used policy. In your folder should be a file called all_names.csv. We are going to load this in and use it as the memory. We are also going to set up an ordered array to represent the cache. Then we're going to simulate retrievals of information based on a Zipf distribution and see what our experimental hit percentage is."
   ]
  },
  {
   "cell_type": "code",
   "execution_count": 73,
   "metadata": {},
   "outputs": [
    {
     "name": "stdout",
     "output_type": "stream",
     "text": [
      "Hit Percentage: 0.3527\n"
     ]
    },
    {
     "data": {
      "image/png": "[encoded data removed]",
      "text/plain": [
       "<Figure size 432x288 with 1 Axes>"
      ]
     },
     "metadata": {
      "needs_background": "light"
     },
     "output_type": "display_data"
    }
   ],
   "source": [
    "#Loads the CSV file\n",
    "def load_file(filename):\n",
    "    names = []\n",
    "    try:\n",
    "        f = open(filename)\n",
    "        reader = csv.reader(f)\n",
    "        for row in reader:\n",
    "            names.append(row[0])\n",
    "        f.close()\n",
    "    except:\n",
    "        print ('Error: Could Not Load File')\n",
    "    return np.array(names)\n",
    "\n",
    "#Creates a zipf distribution using the stats discrete module\n",
    "def zipf(s, N):\n",
    "    n = range(1,N+1)\n",
    "    p = []\n",
    "    z = 0.\n",
    "    for i in n:\n",
    "        temp = (1./i)**s\n",
    "        p.append(temp)\n",
    "        z = z+temp\n",
    "    for i in range(np.size(p)): p[i]=p[i]/z\n",
    "    return st.rv_discrete(name = 'Zipf', values=(n,p))\n",
    "\n",
    "#When a hit occurs, move the hit item to the top of the list for LRU\n",
    "def cache_hit(cache,item):\n",
    "    # cache.index(item) is current location of item in the cache\n",
    "    for i in range(cache.index(item),np.size(cache)-1):    \n",
    "        cache[i] = cache[i+1]\n",
    "    cache[np.size(cache)-1] = item\n",
    "    return cache\n",
    "    \n",
    "#When a miss occurs, replace the least recently used (LRU) item\n",
    "def cache_miss(cache, item):\n",
    "    for i in range(np.size(cache)-1):\n",
    "        cache[i]=cache[i+1]\n",
    "    cache[np.size(cache)-1] = item\n",
    "    return cache\n",
    "\n",
    "#Runs the main code for the simulation\n",
    "filename = 'all_names.csv'\n",
    "names = load_file(filename) #This is treated as your memory\n",
    "rv_zipf = zipf(1.0,np.size(names))\n",
    "k = 50 #Size of the Cache\n",
    "r = 10000 #Number of retrievals\n",
    "hits = 0. #Keeps track of the number of hits in the cache\n",
    "hit_av = [] #Keeps track of the hit average\n",
    "cache = [] #List to represent the cache\n",
    "\n",
    "# We first fill cache with k items.  We don't check for\n",
    "# duplicates because if item stream is not diverse this\n",
    "# step could cause infinite loop.\n",
    "while np.size(cache) < k:                 \n",
    "    rv = rv_zipf.rvs()-1   #Random variate from the zipf distribution\n",
    "    item = names[rv]    #Item to be retrieved\n",
    "    cache.append(item)\n",
    "        \n",
    "for i in range(r):\n",
    "    rv = rv_zipf.rvs()-1   #Random variate from the zipf distribution\n",
    "    item = names[rv]    #Item to be retrieved\n",
    "    if item in cache:\n",
    "        cache = cache_hit(cache, item)\n",
    "        hits = hits+1\n",
    "    else:\n",
    "        cache = cache_miss(cache, item)\n",
    "    hit_av.append(hits/(i+1))\n",
    "\n",
    "plt.plot(hit_av)\n",
    "plt.title('Moving Hit Percentage')\n",
    "plt.xlabel('Number of Items Retrieved')\n",
    "plt.ylabel('Hit Percentage')\n",
    "print ('Hit Percentage:', hit_av[np.size(hit_av)-1])"
   ]
  },
  {
   "cell_type": "markdown",
   "metadata": {},
   "source": [
    "<br>**<SPAN style=\"BACKGROUND-COLOR: #C0C0C0\">Problem 3:</SPAN>** Use the code given above to do the following:\n",
    "<ol>\n",
    "<li> Create a new simulation using a random replacement policy. What is the impact on the hit percentage? Plot the moving hit percentage under this policy.</li>\n",
    "<li> We used a Zipf distribution to represent the retrieval requests. It is a heavy tailed distribution with two parameters s and N. Run the given LRU simulation, but vary the s value from 0.5 to 3 in .5 increments. Plot the moving hit percentage under each of these conditions. Why might this be occuring? (The answer lies in the structure of the Zipf distribution)</li>\n",
    "<li> Setting s=1.0 again for the LRU simulation, print out the cache hit rate for k=50, 100, 400, respectively.  How does the cache hit rate vary with the cache size k? Why is that?  \n",
    "<li> Explain whether or not the state of the cache in this experiment can be viewed as a Markov process, both for the LRU policy and for the random replacement policy.</li>"
   ]
  },
  {
   "cell_type": "code",
   "execution_count": 89,
   "metadata": {
    "collapsed": true
   },
   "outputs": [
    {
     "name": "stdout",
     "output_type": "stream",
     "text": [
      "Hit Percentage: 0.3048\n",
      "s: 0.5, Hit Percentage: 0.023\n",
      "s: 1.0, Hit Percentage: 0.3543\n",
      "s: 1.5, Hit Percentage: 0.8181\n",
      "s: 2.0, Hit Percentage: 0.9448\n",
      "s: 2.5, Hit Percentage: 0.9766\n",
      "s: 3.0, Hit Percentage: 0.9907\n",
      "K: 50, Hit Percentage: 0.3491\n",
      "K: 100, Hit Percentage: 0.4386\n",
      "K: 400, Hit Percentage: 0.594\n"
     ]
    },
    {
     "data": {
      "image/png": "[encoded data removed]",
      "text/plain": [
       "<Figure size 432x288 with 1 Axes>"
      ]
     },
     "metadata": {
      "needs_background": "light"
     },
     "output_type": "display_data"
    },
    {
     "data": {
      "image/png": "[encoded data removed]",
      "text/plain": [
       "<Figure size 432x288 with 1 Axes>"
      ]
     },
     "metadata": {
      "needs_background": "light"
     },
     "output_type": "display_data"
    },
    {
     "data": {
      "image/png": "[encoded data removed]",
      "text/plain": [
       "<Figure size 432x288 with 1 Axes>"
      ]
     },
     "metadata": {
      "needs_background": "light"
     },
     "output_type": "display_data"
    }
   ],
   "source": [
    "def random_replacement(cache, item):\n",
    "    rand_miss = np.random.choice(cache, 1)\n",
    "    for i in range(np.size(cache)-1):\n",
    "        if cache[i] == rand_miss:\n",
    "            cache[i] = item\n",
    "    return cache\n",
    "\n",
    "#Runs the main code for the simulation\n",
    "filename = 'all_names.csv'\n",
    "names = load_file(filename) #This is treated as your memory\n",
    "rv_zipf = zipf(1.0,np.size(names))\n",
    "k = 50 #Size of the Cache\n",
    "r = 10000 #Number of retrievals\n",
    "hits = 0. #Keeps track of the number of hits in the cache\n",
    "hit_av = [] #Keeps track of the hit average\n",
    "cache = [] #List to represent the cache\n",
    "\n",
    "# We first fill cache with k items.  We don't check for\n",
    "# duplicates because if item stream is not diverse this\n",
    "# step could cause infinite loop.\n",
    "while np.size(cache) < k:                 \n",
    "    rv = rv_zipf.rvs()-1   #Random variate from the zipf distribution\n",
    "    item = names[rv]    #Item to be retrieved\n",
    "    cache.append(item)\n",
    "        \n",
    "for i in range(r):\n",
    "    rv = rv_zipf.rvs()-1   #Random variate from the zipf distribution\n",
    "    item = names[rv]    #Item to be retrieved\n",
    "    if item in cache:\n",
    "        cache = cache_hit(cache, item)\n",
    "        hits = hits+1\n",
    "    else:\n",
    "        cache = random_replacement(cache, item)\n",
    "    hit_av.append(hits/(i+1))\n",
    "\n",
    "plt.plot(hit_av)\n",
    "plt.title('Moving Hit Percentage')\n",
    "plt.xlabel('Number of Items Retrieved')\n",
    "plt.ylabel('Hit Percentage')\n",
    "print ('Hit Percentage:', hit_av[np.size(hit_av)-1])\n",
    "\n",
    "plt.figure()\n",
    "\n",
    "# Question 2\n",
    "\n",
    "for i in range(5, 31, 5):\n",
    "    s = i/10\n",
    "    filename = 'all_names.csv'\n",
    "    names = load_file(filename) #This is treated as your memory\n",
    "    rv_zipf = zipf(s,np.size(names))\n",
    "    k = 50 #Size of the Cache\n",
    "    r = 10000 #Number of retrievals\n",
    "    hits = 0. #Keeps track of the number of hits in the cache\n",
    "    hit_av = [] #Keeps track of the hit average\n",
    "    cache = [] #List to represent the cache\n",
    "\n",
    "    # We first fill cache with k items.  We don't check for\n",
    "    # duplicates because if item stream is not diverse this\n",
    "    # step could cause infinite loop.\n",
    "    while np.size(cache) < k:                 \n",
    "        rv = rv_zipf.rvs()-1   #Random variate from the zipf distribution\n",
    "        item = names[rv]    #Item to be retrieved\n",
    "        cache.append(item)\n",
    "\n",
    "    for i in range(r):\n",
    "        rv = rv_zipf.rvs()-1   #Random variate from the zipf distribution\n",
    "        item = names[rv]    #Item to be retrieved\n",
    "        if item in cache:\n",
    "            cache = cache_hit(cache, item)\n",
    "            hits = hits+1\n",
    "        else:\n",
    "            cache = cache_miss(cache, item)\n",
    "        hit_av.append(hits/(i+1))\n",
    "\n",
    "    plt.plot(hit_av, label = s)\n",
    "    plt.legend()\n",
    "    plt.title('S Values vs Different Hit Percentage')\n",
    "    plt.xlabel('Number of Items Retrieved')\n",
    "    plt.ylabel('Hit Percentage')\n",
    "    print (f's: {s}, Hit Percentage: {hit_av[np.size(hit_av)-1]}')\n",
    "\n",
    "plt.figure()\n",
    "    \n",
    "# Question 3\n",
    "\n",
    "for k in [50, 100, 400]:\n",
    "    filename = 'all_names.csv'\n",
    "    names = load_file(filename) #This is treated as your memory\n",
    "    rv_zipf = zipf(1,np.size(names))\n",
    "    r = 10000 #Number of retrievals\n",
    "    hits = 0. #Keeps track of the number of hits in the cache\n",
    "    hit_av = [] #Keeps track of the hit average\n",
    "    cache = [] #List to represent the cache\n",
    "\n",
    "    # We first fill cache with k items.  We don't check for\n",
    "    # duplicates because if item stream is not diverse this\n",
    "    # step could cause infinite loop.\n",
    "    while np.size(cache) < k:                 \n",
    "        rv = rv_zipf.rvs()-1   #Random variate from the zipf distribution\n",
    "        item = names[rv]    #Item to be retrieved\n",
    "        cache.append(item)\n",
    "\n",
    "    for i in range(r):\n",
    "        rv = rv_zipf.rvs()-1   #Random variate from the zipf distribution\n",
    "        item = names[rv]    #Item to be retrieved\n",
    "        if item in cache:\n",
    "            cache = cache_hit(cache, item)\n",
    "            hits = hits+1\n",
    "        else:\n",
    "            cache = cache_miss(cache, item)\n",
    "        hit_av.append(hits/(i+1))\n",
    "\n",
    "    plt.plot(hit_av, label = k)\n",
    "    plt.legend()\n",
    "    plt.title('K Values vs Different Hit Percentage')\n",
    "    plt.xlabel('Number of Items Retrieved')\n",
    "    plt.ylabel('Hit Percentage')\n",
    "    print (f'K: {k}, Hit Percentage: {hit_av[np.size(hit_av)-1]}')\n"
   ]
  },
  {
   "cell_type": "code",
   "execution_count": null,
   "metadata": {},
   "outputs": [],
   "source": []
  },
  {
   "cell_type": "code",
   "execution_count": null,
   "metadata": {},
   "outputs": [],
   "source": []
  },
  {
   "cell_type": "markdown",
   "metadata": {},
   "source": [
    "__Answer:__ \n",
    "1. Changing the cache_miss() with random_replacement() decreases the hit percentage.\n",
    "3. bigger cache size => more data to store. so there is a higher chance that the data that we want is already residing in the cache\n",
    "4. Markovs processes see the former state to next determine where to move. The hit and miss is determined what is in the before cache. so it is a markov process"
   ]
  },
  {
   "cell_type": "markdown",
   "metadata": {},
   "source": [
    "**<SPAN style=\"BACKGROUND-COLOR: #C0C0C0\">End of Problem 3</SPAN>**"
   ]
  },
  {
   "cell_type": "markdown",
   "metadata": {},
   "source": [
    "## Lab Questions:"
   ]
  },
  {
   "cell_type": "markdown",
   "metadata": {},
   "source": [
    "Make sure to complete all lab questions 1-3 for this weeks lab."
   ]
  },
  {
   "cell_type": "markdown",
   "metadata": {},
   "source": [
    "<div class=\"alert alert-block alert-warning\"> \n",
    "## Academic Integrity Statement ##\n",
    "\n",
    "By submitting the lab with this statement, you declare you have written up the lab entirely by yourself, including both code and markdown cells. You also agree that you should not share your code with anyone else. Any violation of the academic integrity requirement may cause an academic integrity report to be filed that could go into your student record. See <a href=\"https://provost.illinois.edu/policies/policies/academic-integrity/students-quick-reference-guide-to-academic-integrity/\">Students' Quick Reference Guide to Academic Integrity</a> for more information. "
   ]
  }
 ],
 "metadata": {
  "anaconda-cloud": {},
  "kernelspec": {
   "display_name": "Python 3",
   "language": "python",
   "name": "python3"
  },
  "language_info": {
   "codemirror_mode": {
    "name": "ipython",
    "version": 3
   },
   "file_extension": ".py",
   "mimetype": "text/x-python",
   "name": "python",
   "nbconvert_exporter": "python",
   "pygments_lexer": "ipython3",
   "version": "3.10.11"
  }
 },
 "nbformat": 4,
 "nbformat_minor": 1
}
