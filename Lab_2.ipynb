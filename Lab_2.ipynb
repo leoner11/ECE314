{
 "cells": [
  {
   "cell_type": "markdown",
   "metadata": {},
   "source": [
    "# Lab 2: Histograms, law of large numbers, simulating simple games"
   ]
  },
  {
   "cell_type": "markdown",
   "metadata": {},
   "source": [
    "Please begin by running the code in the following cell to import the packages that are used in this notebook."
   ]
  },
  {
   "cell_type": "code",
   "execution_count": 159,
   "metadata": {},
   "outputs": [
    {
     "name": "stdout",
     "output_type": "stream",
     "text": [
      "Modules Imported!\n"
     ]
    }
   ],
   "source": [
    "%matplotlib inline\n",
    "import matplotlib.pyplot as plt\n",
    "import numpy as np\n",
    "import scipy as sp\n",
    "import scipy.stats as st\n",
    "import math\n",
    "import random\n",
    "print (\"Modules Imported!\")"
   ]
  },
  {
   "cell_type": "markdown",
   "metadata": {},
   "source": [
    "## Plotting a Histogram:"
   ]
  },
  {
   "cell_type": "markdown",
   "metadata": {},
   "source": [
    "A histogram is a graphical representation of a distribution. It shows the frequency at which values occur. Suppose a probability class has 400 students in it. We can simulate random tests scores (with an average of 70) and plot a histogram. The np.random.rand() function returns a number between 0 and 1. It is from a continuous uniform distribution on this interval. It means that for any $c$ between 0 and 1, the probability the sample number is less than or equal to $c$ is equal to $c.$"
   ]
  },
  {
   "cell_type": "code",
   "execution_count": 2,
   "metadata": {},
   "outputs": [
    {
     "data": {
      "text/plain": [
       "Text(0, 0.5, 'Number of Students')"
      ]
     },
     "execution_count": 2,
     "metadata": {},
     "output_type": "execute_result"
    },
    {
     "data": {
      "image/png": "[encoded data removed]",
      "text/plain": [
       "<Figure size 432x288 with 1 Axes>"
      ]
     },
     "metadata": {
      "needs_background": "light"
     },
     "output_type": "display_data"
    }
   ],
   "source": [
    "x = np.zeros(400) #Generates an initial array with 400 students\n",
    "for i in range(400): #Loops through each of the students\n",
    "    x[i] = (int)(25*(np.random.rand()-np.random.rand())+70) #Generates a random test score for that student\n",
    "plt.hist(x,bins=int(np.max(x)-np.min(x))) #Plots a Histogram in range of all valid test scores\n",
    "plt.title(\"Histogram of Test Scores\")\n",
    "plt.xlabel('Test Score')\n",
    "plt.ylabel('Number of Students')"
   ]
  },
  {
   "cell_type": "markdown",
   "metadata": {},
   "source": [
    "For simulation purposes, it is useful to be able to get a value after a single trial of an RV based on a certain distribution. These are called random variates. From the stats module we've used, you simply need to call the rvs function with a size as an input. NumPy also has an easy way to do this through the random module. When you run the code below, you should see two histograms from the same normal distributions. "
   ]
  },
  {
   "cell_type": "code",
   "execution_count": 34,
   "metadata": {},
   "outputs": [
    {
     "name": "stdout",
     "output_type": "stream",
     "text": [
      "<scipy.stats._distn_infrastructure.rv_frozen object at 0x000001C1BD472350>\n",
      "[-0.73484902  0.44479879  1.39248177  1.39116828 -0.05736744  2.11391055\n",
      "  2.05893292 -0.38403451 -0.19898715 -0.45078579  0.38696097 -0.51481894\n",
      "  0.16073139  0.95726964 -0.44167439  0.83635375 -0.56502643 -0.94583934\n",
      "  0.41141252 -0.21126165  1.12939255 -0.72281918 -0.93905743 -2.06638665\n",
      "  0.89317519 -0.01007022  1.66225313  1.64066547  0.40396305  0.79262563\n",
      "  0.74740785 -1.62402596  0.01375374 -2.41979066  0.11951188  0.17945126\n",
      " -1.19733683  1.43873124  1.20439132 -1.04826952 -0.33182553  0.43524578\n",
      "  0.02980325 -0.42238253 -0.55230937  0.65456168 -1.01360504  0.37468853\n",
      "  3.49496646 -0.65555467 -1.0330698  -0.32992892 -1.34520744 -0.43954748\n",
      "  0.04584981  0.2920073  -0.10966609  0.82717217  0.65680682  1.51249384\n",
      " -0.45601998  0.14863166  0.34513629 -0.25999768 -0.61169913 -0.53259232\n",
      "  0.27980066 -0.9113015  -0.12609676 -0.30819306 -0.80533712 -0.7494712\n",
      "  0.59251719  0.30225194 -2.17820412 -1.11614966 -0.37649045 -0.09896386\n",
      " -2.34706715  2.76326974 -0.47432993  0.70782712  1.25368286 -1.30580461\n",
      "  2.01151729 -1.35137471  0.49522651 -1.25526907  1.30176171  0.54019187\n",
      " -1.31058246 -0.24868794  0.67306808 -0.92373408 -0.34807583 -0.41298593\n",
      "  0.24627032  0.40739975 -0.01995428  0.8499912 ]\n"
     ]
    },
    {
     "data": {
      "image/png": "[encoded data removed]",
      "text/plain": [
       "<Figure size 432x288 with 1 Axes>"
      ]
     },
     "metadata": {
      "needs_background": "light"
     },
     "output_type": "display_data"
    },
    {
     "data": {
      "image/png": "[encoded data removed]",
      "text/plain": [
       "<Figure size 432x288 with 1 Axes>"
      ]
     },
     "metadata": {
      "needs_background": "light"
     },
     "output_type": "display_data"
    }
   ],
   "source": [
    "#Simulates a Gaussian RV 100 times in two different ways and creates a histogram\n",
    "\n",
    "X = st.norm()\n",
    "# np.random.seed(100)\n",
    "x = X.rvs(size = 100) #Generates a vector with the results of 100 outputs or trials based on the standard Gaussian distribution\n",
    "# np.random.seed(100)\n",
    "y = np.random.normal(size = 100) #Generates a vector with the results of 100 outputs based on the standard Gaussian distribution\n",
    "plt.hist(x); #Creates a histogram of those results, the default value for the number of bins is bins=10\n",
    "plt.title('Histogram of SciPy.Stats Normal Distribution')\n",
    "plt.figure()\n",
    "plt.hist(y)\n",
    "plt.title('Histogram of NumPy Normal Distribution')\n",
    "print(X)\n",
    "print(x)"
   ]
  },
  {
   "cell_type": "markdown",
   "metadata": {},
   "source": [
    "The scipy and numpy methods for getting these variates should produce the same results, but the two histograms are different. This is due to the random number generator. If we seed the random number generator before running the methods, they should produce consistent results. In the code there are two commented lines with np.random.seed(100). Uncomment these, and run the code again. You should see the histograms are the same now. Essentially, seeding the random number generator, tells it where to start in it's sequence."
   ]
  },
  {
   "cell_type": "markdown",
   "metadata": {},
   "source": [
    "**<SPAN style=\"BACKGROUND-COLOR: #C0C0C0\">Problem 1:</SPAN>** Using the custom discrete variable you made for a roll of the die in Lab 1, or some other method (include a text cell or a comment in the code to explain your method): \n",
    "\n",
    "1. Simulate 100 rolls using the .rvs() method in the stats module. Plot a histogram of the results. Is it what you would expect?\n",
    "2. Now simulate 10,000 rolls of the die and again plot a histogram. Observe any difference and explain your observation. "
   ]
  },
  {
   "cell_type": "code",
   "execution_count": 30,
   "metadata": {},
   "outputs": [
    {
     "data": {
      "text/plain": [
       "Text(0.5, 1.0, 'Histogram of Dice Rolls when n = 10000')"
      ]
     },
     "execution_count": 30,
     "metadata": {},
     "output_type": "execute_result"
    },
    {
     "data": {
      "image/png": "[encoded data removed]",
      "text/plain": [
       "<Figure size 432x288 with 1 Axes>"
      ]
     },
     "metadata": {
      "needs_background": "light"
     },
     "output_type": "display_data"
    },
    {
     "data": {
      "image/png": "[encoded data removed]",
      "text/plain": [
       "<Figure size 432x288 with 1 Axes>"
      ]
     },
     "metadata": {
      "needs_background": "light"
     },
     "output_type": "display_data"
    }
   ],
   "source": [
    "# Your code here\n",
    "\n",
    "n = 100 # the amount of rolls that will happen\n",
    "N = 10000 # the amount of rolls that will happen\n",
    "p = tuple(np.full(6, 1/6)) # vector of probabilities\n",
    "c = (1,2,3,4,5,6) # vector of values\n",
    "Xcstm = st.rv_discrete(values=(c,p)) #creates an instance of a class\n",
    "\n",
    "\n",
    "x = Xcstm.rvs(size = n) # for number 1\n",
    "X = Xcstm.rvs(size = N) # for number 2\n",
    "\n",
    "# Number 1\n",
    "plt.hist(x) # plot number 1\n",
    "plt.title(\"Histogram of Dice Rolls when n = 100\")\n",
    "\n",
    "plt.figure()\n",
    "\n",
    "# Number 2\n",
    "plt.hist(X) # plot number 2\n",
    "plt.title(\"Histogram of Dice Rolls when n = 10000\")\n"
   ]
  },
  {
   "cell_type": "markdown",
   "metadata": {},
   "source": [
    "__Answer:__ \n",
    "1. Not really what I expected since the dice has a same amount of probability of occuring. But the histogram shows an significance difference between the rolls\n",
    "2. When the sample size is increased, it shows less difference, therefore showing that the probability of every value = 1/6 true"
   ]
  },
  {
   "cell_type": "markdown",
   "metadata": {},
   "source": [
    "**<SPAN style=\"BACKGROUND-COLOR: #C0C0C0\">End of Problem 1</SPAN>**"
   ]
  },
  {
   "cell_type": "markdown",
   "metadata": {},
   "source": [
    "## The Law of Large Numbers:"
   ]
  },
  {
   "cell_type": "markdown",
   "metadata": {},
   "source": [
    "The law of large numbers describes the result of performing the same experiment a large number of times. Let $X_1,X_2, \\ldots ,X_n$ be a set of uncorrelated random variables, each with a finite mean of $\\mu$. Let $S_n$ represent the sum of these random variables: $S_n=X_1+X_2+...+X_n$. The law of large numbers states that $P\\left\\{\\Big|\\frac{S_n}{n}-\\mu\\Big|\\ge\\delta\\right\\}\\le\\frac{C}{n\\delta^2}\\to0$ as $n\\to\\infty$. Put another way this simply states that the sum of the RVs divided by n converges in some sense to the mean ($\\frac{S_n}{n}\\to\\mu$). A proof of this is given in the ECE 313 textbook, using a bounded variance assumption and the Chebychev inequality.\n",
    "\n",
    "To observe this behavior by simulation, let's look at the Poisson distribution. A Poisson RV has a single parameter $\\lambda$ which represents the mean number of occurances or counts, such as the mean number of hits your Youtube video gets in a day.  Then the probability that your video gets $i$ hits in one day is given by the pmf: $p(i)=\\frac{\\lambda^ie^{-\\lambda}}{i!}$. So what if you totalled the number of hits you received each day for a week, month, or year and divided by that many days? The law of large numbers asserts that as $n$ gets large this should go to the mean $\\lambda$. Below, we create a Poisson distribution where $\\lambda=5$ hits per day. We retrieve a random variate each day and model the law of large numbers over time. Try running the cell multiple times and see how much variation there is for different runs."
   ]
  },
  {
   "cell_type": "code",
   "execution_count": 79,
   "metadata": {},
   "outputs": [
    {
     "name": "stdout",
     "output_type": "stream",
     "text": [
      "[10, 7, 6, 5, 10, 8, 8, 8]\n",
      "[4, 7, 3, 9, 7, 6, 7, 7]\n",
      "[0, 7, 13, 18, 28, 36, 44, 52]\n",
      "[0, 7, 10, 19, 26, 32, 39, 46]\n",
      "[0.0, 7.0, 6.5, 6.0, 7.0, 7.2, 7.333333333333333, 7.428571428571429]\n",
      "[0.0, 7.0, 5.0, 6.333333333333333, 6.5, 6.4, 6.5, 6.571428571428571]\n"
     ]
    },
    {
     "data": {
      "text/plain": [
       "<matplotlib.legend.Legend at 0x13508a3d9f0>"
      ]
     },
     "execution_count": 79,
     "metadata": {},
     "output_type": "execute_result"
    },
    {
     "data": {
      "image/png": "[encoded data removed]",
      "text/plain": [
       "<Figure size 432x288 with 1 Axes>"
      ]
     },
     "metadata": {
      "needs_background": "light"
     },
     "output_type": "display_data"
    },
    {
     "data": {
      "image/png": "[encoded data removed]",
      "text/plain": [
       "<Figure size 432x288 with 1 Axes>"
      ]
     },
     "metadata": {
      "needs_background": "light"
     },
     "output_type": "display_data"
    }
   ],
   "source": [
    "lamb = 5. #Our rate of hits per day\n",
    "N = 7 #Number of days we are going to simulate over\n",
    "x = [st.poisson.rvs(lamb)]    #Gets the number of hits on the first day and stores it in a vector\n",
    "y = [np.random.poisson(lamb)] #Same using numpy instead of scipy.stats\n",
    "Sx = [0] #Sx will represent cumulative sums of the random variates at different times\n",
    "Sy = [0] \n",
    "Ax = [0.0] #Ax will be an array of averages, Sx/n, at different times\n",
    "Ay = [0.0]\n",
    "\n",
    "for n in range(1,N+1): #Simulates over N days\n",
    "    x.append(st.poisson.rvs(lamb)) #Appends the number of hits of the next day to the vector\n",
    "    y.append(np.random.poisson(lamb))\n",
    "    Sx.append(Sx[n-1]+x[n]) #Appends the sum at n to the vector\n",
    "    Sy.append(Sy[n-1]+y[n])\n",
    "    Ax.append(Sx[n]/(1.*n)) #Appends the sum over n to the vector\n",
    "    Ay.append(Sy[n]/(1.*n))\n",
    "\n",
    "print(x)\n",
    "print(y)\n",
    "print(Sx)\n",
    "print(Sy)\n",
    "print(Ax)\n",
    "print(Ay)\n",
    "n = np.linspace(0,N,N+1) #Generates an array of N+1 points from 0 to N for graphing purposes\n",
    "\n",
    "plt.plot(Sx, label = 'Total # of Hits X') #Plots the total number of hits\n",
    "plt.plot(Sy, label = 'Total # of Hits Y')\n",
    "plt.plot(n, lamb*n, label = 'lambda*n') #Plots a line based on the rate given\n",
    "plt.title('Cumulative number of hits')\n",
    "plt.ylabel('Number of hits')\n",
    "plt.xlabel('Number of days')\n",
    "plt.legend()\n",
    "\n",
    "plt.figure() #Creates a new figure\n",
    "plt.plot(Ax, label = 'S_x/n') #Plots the average number of hits\n",
    "plt.plot(Ay, label = 'S_y/n')\n",
    "plt.plot(lamb*np.ones(N+1), label = 'rate lambda') #Plots the expected average\n",
    "plt.title('Running average number of hits per day')\n",
    "plt.ylabel('Running average number of hits per day')\n",
    "plt.xlabel('Number of days')\n",
    "plt.legend()"
   ]
  },
  {
   "cell_type": "markdown",
   "metadata": {},
   "source": [
    "You can play with the above code. Change $\\lambda$ or change the number of days we simulate over. You should see that $\\frac{S_n}{n}\\to\\lambda$ as the number of days, $n$, increases. \n",
    "<br><br>**<SPAN style=\"BACKGROUND-COLOR: #C0C0C0\">Problem 2:</SPAN>** Using your discrete die rolling RV, once again simulate 10000 rolls of the die. \n",
    "\n",
    "1. Show graphically that the law of large numbers is maintained for the average of the numbers of the first $n$ rolls as $n\\rightarrow\\infty.$ \n",
    "2. What would be a rough approximation of the sum? Of the average?  \n",
    "\n",
    "(Note: There is no parameter $\\lambda$ associated with the roll of a die.  But the mean value of a roll plays the same role.)"
   ]
  },
  {
   "cell_type": "code",
   "execution_count": 136,
   "metadata": {},
   "outputs": [
    {
     "data": {
      "image/png": "[encoded data removed]",
      "text/plain": [
       "<Figure size 432x288 with 1 Axes>"
      ]
     },
     "metadata": {
      "needs_background": "light"
     },
     "output_type": "display_data"
    }
   ],
   "source": [
    "mu = 3.5\n",
    "\n",
    "num_rolls = 10000 # amount of rolls that is going to occur\n",
    "die_rolls = st.poisson.rvs(mu, size=num_rolls) # the rolls\n",
    "\n",
    "# Calculate the cumulative average of the rolls\n",
    "cumulative_average = np.cumsum(die_rolls) / np.arange(1, num_rolls + 1) # the cummulative average of the sum\n",
    "\n",
    "# Plot the results\n",
    "plt.plot(range(1, num_rolls + 1), cumulative_average, label='Cumulative Average')\n",
    "plt.xlabel('Number of Rolls (n)')\n",
    "plt.ylabel('Average')\n",
    "plt.legend()\n",
    "plt.title('Law of Large Numbers for Die Rolls')\n",
    "plt.grid(True)\n",
    "plt.show()"
   ]
  },
  {
   "cell_type": "markdown",
   "metadata": {},
   "source": [
    "__Answer:__ According to the graph that the code has plotted, it would be staying in 3.5 which is equivalent to if u sum up all the values of a dice and divide it by 6"
   ]
  },
  {
   "cell_type": "markdown",
   "metadata": {},
   "source": [
    "**<SPAN style=\"BACKGROUND-COLOR: #C0C0C0\">End of Problem 2</SPAN>**"
   ]
  },
  {
   "cell_type": "markdown",
   "metadata": {},
   "source": [
    "## Additional Lab Questions:"
   ]
  },
  {
   "cell_type": "markdown",
   "metadata": {},
   "source": [
    "**For the completeion of this lab, make sure to do questions 1-2 as well as these two additional questions:**\n",
    "<br><br>**<SPAN style=\"BACKGROUND-COLOR: #C0C0C0\">Problem 3:</SPAN>** If you thought you could get out of your first probability lab without some questions on poker hands, I'm sorry, but they're too good to pass up. Suppose you draw five cards from a standard 52 card deck.\n",
    "<ol><li>Calculate the probabilities of getting a TWO PAIR, THREE OF A KIND, FULLHOUSE, and a FLUSH; print out these probabilities. You need to write down your calculation process, either in a markdown or code cell, not just the result probabilities. (Note: FLUSHes include straight/royal FLUSHes) </li> \n",
    "<li>Simulate 1,000,000 poker hands, count the number of times you get for each of the above hands and find the empirical probability of getting each of the above hands.  Your simulated hands\n",
    "should include all possible poker hands. (Hint: One way to represent a random poker hand is to use a 4 by 13 binary array with ones placed at five randomly chosen locations.  The np.sum command can be used to compute row or column sums. If you don't know how to generate random integers in Python, Google is a good source for help.)</li>\n",
    "<li>Do the probabilities match up relatively well?</li>\n",
    "</ol>\n",
    "\n",
    "(For most lab questions in ECE314, you will be graded based on the correctness of your answers, regardless of how you code. However, for part 2 of this problem, you may lose a few points for very inefficient code, e.g. with a lot of for loops and unecessary if structures. As a general guideline, if your program can run in one minute (for 1,000,000 hands), it should be sufficiently efficient, although this is not a hard requirement). "
   ]
  },
  {
   "cell_type": "code",
   "execution_count": 569,
   "metadata": {},
   "outputs": [
    {
     "name": "stdout",
     "output_type": "stream",
     "text": [
      "4.75390156062425\n",
      "2.112845138055222\n",
      "0.14405762304921968\n",
      "0.19807923169267708\n",
      "note that all probabilities printed are in %\n"
     ]
    }
   ],
   "source": [
    "# Your code here (add addtitional code/markdown cells if needed)\n",
    "# Number 1\n",
    "denom = math.comb(52,5) # for the denominator\n",
    "\n",
    "twopair_prob = (math.comb(13,2) * (math.comb(4,2)**2) * math.comb(11,1) * math.comb(4, 1))/denom # the probability of two pair occuring\n",
    "print(twopair_prob*100)\n",
    "\n",
    "threeofakind_prob = (math.comb(13,1)*math.comb(4,3)*math.comb(12,2)*(math.comb(4,1)**2))/denom # the probability of three of a kind occuring\n",
    "print(threeofakind_prob*100)\n",
    "\n",
    "fullhouse_prob = (math.comb(13,1) * math.comb(4,3) * math.comb(12,1) * math.comb(4,2))/denom # the probability of a fullhouse occuring\n",
    "print(fullhouse_prob*100)\n",
    "\n",
    "normalflush_prob = (math.comb(13,5)*math.comb(4,1) - math.comb(10,1)*math.comb(4,1))/denom\n",
    "straightflush_prob = (math.comb(10,1)*math.comb(4,1) - math.comb(4,1))/denom\n",
    "royalflush_prob = math.comb(4,1)/denom\n",
    "\n",
    "allflush_prob = (normalflush_prob + straightflush_prob + royalflush_prob) # probability of a flush occuring\n",
    "print(allflush_prob*100)\n",
    "\n",
    "print(\"note that all probabilities printed are in %\")"
   ]
  },
  {
   "cell_type": "code",
   "execution_count": 648,
   "metadata": {},
   "outputs": [
    {
     "name": "stdout",
     "output_type": "stream",
     "text": [
      "4.7745999999999995%\n",
      "2.1237%\n",
      "0.1431%\n",
      "0.1972%\n"
     ]
    }
   ],
   "source": [
    "# Number 2\n",
    "n = 1000000 # number of iterations\n",
    "different_cards = [2,3,4,5,6,7,8,9,10,11,12,13,14] # card decks\n",
    "# 11 is J\n",
    "# 12 is Q\n",
    "# 13 is K\n",
    "# 14 is A\n",
    "different_ranks = [\"D\", \"C\", \"H\", \"S\"] # card suits\n",
    "\n",
    "deck = [(card, rank) for card in different_cards for rank in different_ranks] # to make all the possibilities from the deck\n",
    "\n",
    "pokerhands_counter = {\n",
    "    \"two_pair\" : 0,\n",
    "    \"three_of_a_kind\": 0,\n",
    "    \"full_house\": 0,\n",
    "    \"flush\": 0\n",
    "} # a dictionary to keep track of the count of occurences happening\n",
    "\n",
    "# this function returns a boolean whether there are two pairs or no\n",
    "def is_two_pairs(cards):\n",
    "    temp_card = {}\n",
    "    for card in cards:\n",
    "        if card in temp_card:\n",
    "            temp_card[card] += 1\n",
    "        else:\n",
    "            temp_card[card] = 1\n",
    "    count_of_twos = sum(1 for count in temp_card.values() if count == 2)\n",
    "    return count_of_twos == 2\n",
    "\n",
    "# this function returns a boolean whether there are three of a kinds or no\n",
    "def is_three_of_akind(cards):\n",
    "    temp_card = {}\n",
    "    for card in cards:\n",
    "        if card in temp_card:\n",
    "            temp_card[card] += 1\n",
    "        else:\n",
    "            temp_card[card] = 1\n",
    "    count_of_twos = sum(1 for count in temp_card.values() if count == 3)\n",
    "    return count_of_twos == 1\n",
    "\n",
    "# this function returns a boolean whether there is a full house or no\n",
    "def is_full_house(cards):\n",
    "    temp_card = {}\n",
    "    for card in cards:\n",
    "        if card in temp_card:\n",
    "            temp_card[card] += 1\n",
    "        else:\n",
    "            temp_card[card] = 1\n",
    "    return 3 in temp_card.values() and 2 in temp_card.values()\n",
    "\n",
    "# this function returns a boolean whether there is a flush or no, regardless of any type\n",
    "def is_flush(rank):\n",
    "    return all(element == rank[0] for element in rank)\n",
    "\n",
    "# this function is the main logic to do implement the above functions and to shuffle the deck and to extract the deck that we will use for testing\n",
    "def small_loop():\n",
    "    random.shuffle(deck)\n",
    "    hand = deck[:5]\n",
    "    temporary_card = [card for card, _ in hand]\n",
    "    temporary_rank = [rank for _, rank in hand]\n",
    "    if is_two_pairs(temporary_card):\n",
    "        pokerhands_counter[\"two_pair\"] += 1\n",
    "\n",
    "    elif is_full_house(temporary_card):\n",
    "        pokerhands_counter[\"full_house\"] += 1\n",
    "\n",
    "    elif is_three_of_akind(temporary_card):\n",
    "        pokerhands_counter[\"three_of_a_kind\"] += 1\n",
    "\n",
    "    elif is_flush(temporary_rank):\n",
    "        pokerhands_counter[\"flush\"] += 1\n",
    "\n",
    "# this function is used for map()\n",
    "def divider(x):\n",
    "    return (x / n)*100 \n",
    "\n",
    "def main():\n",
    "    for i in range(0, n + 1): # iterate 1000000 times\n",
    "        small_loop()\n",
    "\n",
    "    # print(pokerhands_counter)\n",
    "    values_list = list(pokerhands_counter.values())\n",
    "    probability_of_each = list(map(divider, values_list))\n",
    "    for i in probability_of_each:\n",
    "        print(f\"{i}%\")\n",
    "    \n",
    "    \n",
    "main()"
   ]
  },
  {
   "cell_type": "markdown",
   "metadata": {},
   "source": [
    "__Answer:__ yes, the probability matches up relatively well between the two ways that they are counted"
   ]
  },
  {
   "cell_type": "markdown",
   "metadata": {},
   "source": [
    "**<SPAN style=\"BACKGROUND-COLOR: #C0C0C0\">End of Problem 3</SPAN>**"
   ]
  },
  {
   "cell_type": "markdown",
   "metadata": {},
   "source": [
    "**<SPAN style=\"BACKGROUND-COLOR: #C0C0C0\">Problem 4:</SPAN>** A classic problem when being introduced to probability is the Monty Hall problem. If you've ever seen \"Let's Make a Deal\" on television, this problem takes from that show. You're the contestant. The host of the show gives you three doors to choose from. One door chosen at random holds a grand prize and the other two hold worthless items. You choose your door, and then the host reveals one of the doors you didn't choose such that it always holds a worthless item.  (If you initially choose the door with the grand prize, the host reveals either of the other doors with equal probability.) So now there are two doors left and the host asks you whether you would like to switch. What should you do?\n",
    "<ol><li>Write down your first reaction? Would you switch doors or keep the one you have? Why?</li>\n",
    "    <li>Create this scenario and simulate the strategy of sticking with the same door 1,000,000 times. What percentage of time did you win?</li>\n",
    "    <li>Simulate the strategy of switching doors 1,000,000 times. What percentage of time did you win?</li>\n",
    "    <li>Which strategy would you use now? Explain why this is the case.</li>\n",
    "</ol>\n",
    "\n",
    "In the simulation, you can simulate every step that happens in the actual game and exactly as it happens, even for very trivial steps. You can also clever-guess some parts and skip some trivial steps; if you do that, make sure you briefly reason about why you do so in comments, so that the graders know that you understand what actually happens in the game. There is no timing requirement for this problem.  "
   ]
  },
  {
   "cell_type": "markdown",
   "metadata": {},
   "source": [
    "__Answer of Part 1:__ I would keep the one I have because logically it would be a 50 - 50 chance"
   ]
  },
  {
   "cell_type": "code",
   "execution_count": 646,
   "metadata": {},
   "outputs": [
    {
     "name": "stdout",
     "output_type": "stream",
     "text": [
      "probability of winning when switching always: 66.6075%\n",
      "probability of winning when not switching always: 33.3926%\n"
     ]
    }
   ],
   "source": [
    "# Your code here (add addtitional code/markdown cells if needed)\n",
    "n = 1000000 # number of iterations\n",
    "choices = [\"goat\", \"goat\", \"gold\"] # the choices\n",
    "\n",
    "# counters to see how the results\n",
    "switching_counter = 0 \n",
    "non_switching_counter = 0\n",
    "\n",
    "def the_switching_logic():\n",
    "\n",
    "    global switching_counter, non_switching_counter # we use global variable to update the switching and non switching counter\n",
    "    random.shuffle(choices) # shuffle the choices\n",
    "    my_choice = random.randint(0,2) # my random choice\n",
    "    \n",
    "    only_goat_list = [i for i in range(0,3) if i != my_choice and choices[i] == \"goat\"] # filter out the list so the host can choose\n",
    "    host_pick = random.choice(only_goat_list) # host picks one\n",
    "\n",
    "    my_final_choice = [i for i in range(0,3) if i != my_choice and i != host_pick][0] # this takes the first index of the list that changes the choice from the one i choose before\n",
    "\n",
    "    if choices[my_choice] == \"gold\":\n",
    "        non_switching_counter += 1 # if correct add to non_switching_counter\n",
    "    elif choices[my_final_choice] == \"gold\":\n",
    "        switching_counter += 1 # if correct add to switching_counter\n",
    "\n",
    "def main(): # main function to run the whole thing\n",
    "    for i in range(0, n + 1):\n",
    "        the_switching_logic()\n",
    "\n",
    "    print(f\"probability of winning when switching always: {switching_counter/n * 100}%\")\n",
    "    print(f\"probability of winning when not switching always: {non_switching_counter/n * 100}%\")\n",
    "\n",
    "\n",
    "main()\n",
    "\n",
    "\n",
    "\n",
    "\n",
    "    \n"
   ]
  },
  {
   "cell_type": "markdown",
   "metadata": {},
   "source": [
    "__Answer of Part 4:__ The switching case since it approximately wins 2/3 of the time. it is because that if u initially chose goat which is 2/3 of the choices, it guarantees u of winning the gold because the unopened door is definitely a car. while if u choose car and switch, it only happens in 1/3 of the time"
   ]
  },
  {
   "cell_type": "markdown",
   "metadata": {},
   "source": [
    "**<SPAN style=\"BACKGROUND-COLOR: #C0C0C0\">End of Problem 4</SPAN>**"
   ]
  },
  {
   "cell_type": "markdown",
   "metadata": {},
   "source": [
    "<div class=\"alert alert-block alert-warning\"> \n",
    "## Academic Integrity Statement ##\n",
    "\n",
    "By submitting the lab with this statement, you declare you have written up the lab entirely by yourself, including both code and markdown cells. You also agree that you should not share your code with anyone else. Any violation of the academic integrity requirement may cause an academic integrity report to be filed that could go into your student record. See <a href=\"https://provost.illinois.edu/policies/policies/academic-integrity/students-quick-reference-guide-to-academic-integrity/\">Students' Quick Reference Guide to Academic Integrity</a> for more information. "
   ]
  }
 ],
 "metadata": {
  "anaconda-cloud": {},
  "kernelspec": {
   "display_name": "Python 3",
   "language": "python",
   "name": "python3"
  },
  "language_info": {
   "codemirror_mode": {
    "name": "ipython",
    "version": 3
   },
   "file_extension": ".py",
   "mimetype": "text/x-python",
   "name": "python",
   "nbconvert_exporter": "python",
   "pygments_lexer": "ipython3",
   "version": "3.10.11"
  }
 },
 "nbformat": 4,
 "nbformat_minor": 1
}
