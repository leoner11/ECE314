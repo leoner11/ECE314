{
 "cells": [
  {
   "cell_type": "markdown",
   "metadata": {},
   "source": [
    "# Lab 7: Introduction to Markov chains and random graphs"
   ]
  },
  {
   "cell_type": "markdown",
   "metadata": {},
   "source": [
    "In this lab we will be looking at Markov Processes.  Below is the code to import the modules we will be using throughout this lab."
   ]
  },
  {
   "cell_type": "code",
   "execution_count": 1,
   "metadata": {},
   "outputs": [
    {
     "name": "stdout",
     "output_type": "stream",
     "text": [
      "Modules Imported!\n"
     ]
    }
   ],
   "source": [
    "%matplotlib inline\n",
    "import matplotlib.pyplot as plt\n",
    "import matplotlib.image as img\n",
    "import numpy as np\n",
    "import scipy as sp\n",
    "import scipy.stats as st\n",
    "import pickle as pkl\n",
    "import csv as csv\n",
    "import networkx as nx  # If using your own computer may need to install networkx \n",
    "print (\"Modules Imported!\")"
   ]
  },
  {
   "cell_type": "markdown",
   "metadata": {},
   "source": [
    "## Introduction to Markov Chains:"
   ]
  },
  {
   "cell_type": "markdown",
   "metadata": {},
   "source": [
    "A Markov chain $(X[t]: t\\geq 0)$ is a sequence of random variables such that the distribution of each variable is determined by the random variable before it.  Equivalently, it is a sequence of states visited by a form of finite state machine with random transitions.  To describe how to generate the chain we specify the initial probability distribution $\\pi_0$ and a one-step transition probability matrix $P$.   We assume there is a finite state space described by {0,1,, . . . , $n-1$} for some $n$.  The intial distribution, $\\pi(0)$, should be a probability vector (nonnegative entries with sum equal to one) of length $n$.   It consists of the probability the process is in a given state at time zero: ${\\pi_i(0)} = P\\{X[0]=i\\}$ for $0\\leq i \\leq n-1.$    The matrix $P$ is an $n\\times n$ matrix such that each row of the matrix is a probability vector.   If the state of the Markov chain at time $t-1$ is $i$ (in other words, if $X[t-1]=i$), then the (conditional) probability distribution of $X[t]$, the state at time $t$, is given by the ith row of $P.$ Additionally, we can look at the individual entries: $p_{ij}=P\\left\\{X[t]=j \\; \\big| \\; X[t-1]=i\\right\\}$.  Below is a class that can be used to create a Markov chain.  An object in this class is created with specified values of $\\pi_0$ and $P$, and can be used to calculate the state distribution at any time or to generate a sample path (i.e. a variate of the sequence of states) of the Markov chain.  \n",
    "\n",
    "The state distributions are determined recursively as follows.  If $$\\pi_i(t)=P\\{X[t]=i\\}$$ then by the law of total probability, $$\\pi_j(t)= P\\{X[t]=j\\}=\\sum_i P\\{X[t-1]=i,X[t]=j\\} =\\sum_i \\pi_i(t-1)p_{i,j}$$  That is, if we view $\\pi(t)$ as a row vector for all $t,$ then $\\pi(t)=\\pi(t-1)P,$  where we have used multiplication of a row vector by a matrix.  (A nice introduction to Markov chains is given on wikipedia.)"
   ]
  },
  {
   "cell_type": "code",
   "execution_count": 2,
   "metadata": {},
   "outputs": [
    {
     "name": "stdout",
     "output_type": "stream",
     "text": [
      "Simulated state sequence\n",
      "[1 1 0 0 0 0 0 0 0 0 0 0 0 0 0 0 0 0 0 0 0 0 0 1 1 1 1 1 1 1 0 1 0 0 1 1 1\n",
      " 1 1 0 0 0 0 1 1 1 1 1 1 1 1 1 1 1 1 1 1 1 1 1 1 1 1 1 1 1 1 1 1 1 1 1 1 1\n",
      " 1 1 1 1 1 1 1 1 1 1 1 1 1 1 1 1 1 1 1 1 1 1 1 1 1 1]\n",
      "Distribution at time 0 : [0.1 0.9]\n",
      "Distribution at time 1 : [0.18 0.82]\n",
      "Distribution at time 2 : [0.244 0.756]\n",
      "Distribution at time 3 : [0.2952 0.7048]\n",
      "Distribution at time 4 : [0.33616 0.66384]\n",
      "Distribution at time 5 : [0.368928 0.631072]\n",
      "Distribution at time 6 : [0.3951424 0.6048576]\n",
      "Distribution at time 7 : [0.41611392 0.58388608]\n",
      "Distribution at time 8 : [0.43289114 0.56710886]\n",
      "Distribution at time 9 : [0.44631291 0.55368709]\n",
      "Distribution at time 10 : [0.45705033 0.54294967]\n",
      "Distribution at time 11 : [0.46564026 0.53435974]\n",
      "Distribution at time 12 : [0.47251221 0.52748779]\n",
      "Distribution at time 13 : [0.47800977 0.52199023]\n",
      "Distribution at time 14 : [0.48240781 0.51759219]\n",
      "Distribution at time 15 : [0.48592625 0.51407375]\n",
      "Distribution at time 16 : [0.488741 0.511259]\n",
      "Distribution at time 17 : [0.4909928 0.5090072]\n",
      "Distribution at time 18 : [0.49279424 0.50720576]\n",
      "Distribution at time 19 : [0.49423539 0.50576461]\n"
     ]
    }
   ],
   "source": [
    "# Markov chain object similar to random variable objects in scipy.stats (st)\n",
    "\n",
    "class Markov_chain:\n",
    "    def __init__(self, P, pi0):   # The transition probability matrix and initial distribution are passed\n",
    "        self.P = P \n",
    "        self.pi0 = pi0\n",
    "        self.n=np.size(pi0)\n",
    "        if np.shape(P) != (self.n,self.n):\n",
    "            print (\"Error: Shape of P doesn't match pi0\")\n",
    "   \n",
    "    def rvs(self,T):     # produce a length T segment of variates of the random process\n",
    "        X = [np.random.choice(self.n, p=self.pi0)] \n",
    "        for t in range(1,T):\n",
    "            X.append(np.random.choice(self.n, p=self.P[X[t-1],:]))\n",
    "        return np.array(X)\n",
    "    \n",
    "    def pi(self,t):    # produce probability distribution at time t\n",
    "        pi_new=self.pi0\n",
    "        for s in range(t):\n",
    "            pi_new = np.dot(pi_new, P)    # one step update of probability distribution\n",
    "        return pi_new\n",
    "\n",
    "# An example of how you can use the class to create and run through a simple two state chain\n",
    "P=np.array([[0.9,0.1],[0.1,0.9]])\n",
    "pi0=np.array([0.1,0.9])\n",
    "print ('Simulated state sequence')\n",
    "markov=Markov_chain(P,pi0)  \n",
    "print (markov.rvs(100))\n",
    "for t in range(20):\n",
    "    print (\"Distribution at time\", t, \":\", markov.pi(t))"
   ]
  },
  {
   "cell_type": "markdown",
   "metadata": {},
   "source": [
    "We won't go into this deeply, but notice how as the distributions change in time, they appear to be converging. For some Markov chains, there exists a limit for the distribution. If this occurs then the limit distribution $\\pi$ satisfies $\\pi = \\pi P$ and $\\pi$ is called an *equilibrium distribution.*\n",
    "\n",
    "<br>**<SPAN style=\"BACKGROUND-COLOR: #C0C0C0\">Problem 1:</SPAN>** Imagine that the states {0, . . . , n-1} of a particular Markov chain are the nodes of a ring graph, with state 0 following state n-1.   Create a Markov_chain object for n=6 with inital state 0 (so x[0]=0 with probability one) with the following transition probabilities:  given X[t-1]=i, X[t] is equal to i with probability 0.8 and to i+1 (modulo n) with probability 0.2.\n",
    "<ol>\n",
    "<li> Print the first 100 states for a simulation of the chain.</li>\n",
    "<li> Simulate the chain for 10,000 time units, and calculate the number of complete revolutions the chain makes around the ring, divided by 10,000.  This is an estimate of the long term cycle rate for the Markov chain.  Repeat the experiment ten times to get an idea of the variation from one experiment to the next.</li>\n",
    "<li> Give an analytical argument for what the long term cycle rate for this Makov chain should be.</li>"
   ]
  },
  {
   "cell_type": "code",
   "execution_count": 20,
   "metadata": {},
   "outputs": [
    {
     "name": "stdout",
     "output_type": "stream",
     "text": [
      "Simulated state sequence, first 100 states\n",
      "[0 0 1 2 2 2 3 3 3 3 3 3 3 3 3 3 3 4 4 5 5 0 0 0 0 0 0 1 1 1 1 1 2 2 2 2 3\n",
      " 3 4 4 5 5 5 0 0 0 0 1 1 1 1 2 2 3 3 3 3 3 3 3 3 3 3 4 4 4 4 5 5 0 0 1 1 1\n",
      " 1 2 2 2 3 3 3 3 3 3 3 4 5 0 1 1 1 1 2 2 2 2 2 3 3 4]\n",
      "[0 0 0 ... 4 4 4]\n",
      "[0 0 0 ... 3 3 3]\n",
      "[0 0 0 ... 5 5 5]\n",
      "[0 0 0 ... 0 0 0]\n",
      "[0 0 1 ... 3 3 3]\n",
      "[0 0 1 ... 2 2 2]\n",
      "[0 0 1 ... 2 2 2]\n",
      "[0 1 2 ... 4 5 5]\n",
      "[0 0 0 ... 1 2 2]\n",
      "[0 0 1 ... 1 1 1]\n",
      "estimate of longterm cycle: [0.0336, 0.0324, 0.0335, 0.0332, 0.033, 0.034, 0.0334, 0.0343, 0.0337, 0.0332]\n",
      "mean is: 0.03343\n"
     ]
    }
   ],
   "source": [
    "# Your code here\n",
    "\n",
    "P = np.array(\n",
    "     [[0.8, 0.2, 0, 0, 0, 0],\n",
    "     [0, 0.8, 0.2, 0, 0, 0],\n",
    "     [0, 0, 0.8, 0.2, 0, 0],\n",
    "     [0, 0, 0, 0.8, 0.2, 0],\n",
    "     [0, 0, 0, 0, 0.8, 0.2],\n",
    "     [0.2, 0, 0, 0, 0, 0.8]])\n",
    "\n",
    "pi0 = np.array([1,0,0,0,0,0])\n",
    "print ('Simulated state sequence, first 100 states')\n",
    "markov=Markov_chain(P,pi0)  \n",
    "print (markov.rvs(100))\n",
    "\n",
    "simulation_list = []\n",
    "\n",
    "for i in range(0,10):\n",
    "    revolutions = 0\n",
    "    simulation= markov.rvs(10000)\n",
    "    print(simulation)\n",
    "\n",
    "    for j in range(0,9999):\n",
    "        # print(simulation[j])\n",
    "        if simulation[j]-simulation[j+1]==5:\n",
    "            revolutions+=1\n",
    "    simulation_list.append(revolutions/10000)\n",
    "\n",
    "print(f\"estimate of longterm cycle: {simulation_list}\")\n",
    "print(f\"mean is: {np.mean(simulation_list)}\")\n",
    "    # print(revolutions/10000)\n",
    "    # revolutions = 0\n",
    "\n",
    "# for t in range(20):\n",
    "#     print (\"Distribution at time\", t, \":\", markov.pi(t))\n"
   ]
  },
  {
   "cell_type": "code",
   "execution_count": null,
   "metadata": {},
   "outputs": [],
   "source": []
  },
  {
   "cell_type": "markdown",
   "metadata": {},
   "source": [
    "__Answer:__ The analytical solution of the Markov Chain should be around 0.33 since the mean is around there."
   ]
  },
  {
   "cell_type": "markdown",
   "metadata": {},
   "source": [
    "**<SPAN style=\"BACKGROUND-COLOR: #C0C0C0\">End of Problem 1</SPAN>**"
   ]
  },
  {
   "cell_type": "markdown",
   "metadata": {},
   "source": [
    "## Markov Gibberish"
   ]
  },
  {
   "cell_type": "markdown",
   "metadata": {},
   "source": [
    "Let's look at some applications of a Markov Chain. When I was younger I remember using AIM (instant messenger) to talk to my friends. At some point people started to create bots which could hold conversations with users. Of course we had fun trying to get them to say things that didn't make sense, but the idea that it could generate somewhat relevant conversations was pretty cool. We're going to build a rudimentary version of that here. The code below generates text based on a large sample text, such that each word is generated based on the two words just before it.  The generated sequence of words is given by a 2-Markov chain (here \"2\" means that the distribution of the value of each word is determined by the two previous words, instead of just the one previous word).  That means that any three consecutive words in the generated text are also consecutive words somewhere in the sample text.   If words w1 w2 were the last two words added to the generated text string, then to generate the next word we look for all occurrences of w1 w2 as consecutive words in the sample text, and see what word was just after them for each occurrence.   The randomly generated text selects the next word to match one of those occurrences, selected at random with equal probability."
   ]
  },
  {
   "cell_type": "markdown",
   "metadata": {},
   "source": []
  },
  {
   "cell_type": "code",
   "execution_count": 23,
   "metadata": {},
   "outputs": [
    {
     "data": {
      "text/plain": [
       "'seemed troubled. \"You really won\\'t meet the rest of my former employers, sir--as I believe you have any eyelashes. A mild, furtive, sheepish sort of idiot, kidnapping the child. This nutshell is Freddie. Dialogue leading up to interview George. There was another slightly _frappÃ©_ silence. Jeeves floated out to worry after breakfast, and----\" Oh, well, you can buy my self-respect?\" \"Oh, come!\" I said. \"Bucks you up! Puts a bit braced at the other chappies reverently. The chappie writhed like an arrow and knocked at the flat. There were a substantial fortune that Mr. Bickersteth\\'s uncle is arriving on the board at'"
      ]
     },
     "execution_count": 23,
     "metadata": {},
     "output_type": "execute_result"
    }
   ],
   "source": [
    "# Based on http://agiliq.com/blog/2009/06/generating-pseudo-random-text-with-markov-chains-u/    --BH\n",
    "# Next word of random string is selected from possible word that follow the last two words.\n",
    "\n",
    "\n",
    "class Markov_text:\n",
    "    def __init__(self, open_file):   # The single parameter passed is a file handle\n",
    "        self.cache = {}  # Will be dictionary mapping a key (two consecutive words) to possible next word\n",
    "        self.open_file = open_file\n",
    "        self.words = self.file_to_words()  # Read the words from the file into array self.words\n",
    "        self.word_size = len(self.words)\n",
    "        self.database()   # Fill in the dictionary\n",
    "       \n",
    "       \n",
    "    def file_to_words(self):\n",
    "        self.open_file.seek(0)\n",
    "        data = self.open_file.read()\n",
    "        words = data.split()\n",
    "        return words\n",
    "           \n",
    "       \n",
    "    def triples(self):\n",
    "    #Generates triples from the given data string. So if our string were\n",
    "    # \"What a lovely day\", we'd generate (What, a, lovely) and then (a, lovely, day).\"\"\"\n",
    "           \n",
    "        if self.word_size < 3:\n",
    "            return\n",
    "         \n",
    "        for i in range(self.word_size - 2):\n",
    "            yield (self.words[i], self.words[i+1], self.words[i+2])    #Like return but returns a generator to be used once\n",
    "               \n",
    "    def database(self):\n",
    "        for w1, w2, w3 in self.triples():\n",
    "            key = (w1, w2)\n",
    "            if key in self.cache:\n",
    "                self.cache[key].append(w3)\n",
    "            else:\n",
    "                self.cache[key] = [w3]\n",
    "                         \n",
    "    def generate_markov_text(self, size=100):\n",
    "        seed = np.random.randint(0, self.word_size-3)\n",
    "        w1, w2 = self.words[seed], self.words[seed+1]  # Initial key is (w1,w2)\n",
    "        gen_words = [w1,w2]\n",
    "        for i in range(size):\n",
    "            w1, w2 = w2, np.random.choice(self.cache[(w1, w2)])\n",
    "            gen_words.append(w2)\n",
    "        return ' '.join(gen_words)\n",
    "                \n",
    "        \n",
    "        \n",
    "file_ = open('Jeeves.txt')\n",
    "markov = Markov_text(file_)   # Creates the object markov using the file\n",
    "markov.generate_markov_text()   # Generate random text\n",
    "\n",
    "# The above has a slight bug.   It is possible for the key to be the\n",
    "# last two words in the text file and have no entry in the dictionary.\n",
    "# This won't happen if the last two words in the text file appear\n",
    "# consecutively somewhere else in the file.   -BH"
   ]
  },
  {
   "cell_type": "markdown",
   "metadata": {},
   "source": [
    "With punctuation and everything, this initially looks like a bit of a mess. However, the sentences themselves are coming together and can make a little bit of sense. It is a very primitive version of those bots on instant messaging.\n",
    "\n",
    "<br>**<SPAN style=\"BACKGROUND-COLOR: #C0C0C0\">Problem 2:</SPAN>** Using the class above, do the following:\n",
    "<ol><li> Find your own text file or copy and paste from somewhere and use the text to create gibberish from that. To work well, your file really needs to contain a large amount of text. The \"Jeeves\" file was pulled from a short story. Print out your own 100 word gibberish paragraph based on the text file you used.</li>\n",
    "<li> Rewrite the code here to create a 1-Markov Chain of the words instead of the 2-Markov Chain given above. Print out your own 100 word gibberish paragraph from this.</li>\n",
    "<li> Rewrite the code here to create a 3-Markov Chain of the words instead of the 2-Markov Chain given above. Print out your own 100 word gibberish paragraph from this.</li>\n",
    "<li> Comment on the qualitative differences of your paragraphs using these methods.</li>"
   ]
  },
  {
   "cell_type": "code",
   "execution_count": 32,
   "metadata": {},
   "outputs": [
    {
     "name": "stdout",
     "output_type": "stream",
     "text": [
      "^(3) — 7,283 Darren Seirer 7,283 ^(3) — 691,055 Kevin T. Lusardi our former Chief Financial Officer from August 2010 to March 2015 and a Distribution Date and Stock Option Agreement pursuant to a dividend or distribution paid or awarded, are described below. The risks described in this Annual Report on Form 10-K and the disposition of the acquiring company having a market value equal to the registrant’s Current Report on Form 10-Q, filed on May 15, 2018 (File No. 1-33834) 10.16 Promissory Note, dated August 15, 2027. The Note has a Malaysian withholding tax obligation. It is used for windows and\n",
      "that our management, as of taxes in August 14, 2016. 36 13. <#a_022> 38 14. <#a_023> Principal Accountant Fees earned or more than 10% of State of Marcum llp We consider various Nasdaq Capital Market under the Acting Chief Executive Officers and are inherent uncertainty of the potential tax obligation. It is determined the future be provided by discontinued operations of Rubicon Technology, Inc.* is not been reserved. The increase in business address of each option exercise all of the date of products were $221,883. The Edward Andrews Group L.L.C. and 2021. *Allowance for high-quality sapphire for future operations of its\n",
      "the possibility of human error and the circumvention or overriding of controls. Accordingly, even effective internal controls can provide only reasonable assurance with respect to the Company by Mr. Brog of 57,593 shares of common stock and all persons listed below have sole voting and investment power with respect to director compensation. The Compensation Committee decided that Mr. Brog’s 2020 objectives were only partially met and as a member of our Board of Directors and therefore cannot conclude that a majority of the Company’s share repurchase program, the Janel transaction resulted in the automatic termination of the plan. There was no share repurchase\n"
     ]
    }
   ],
   "source": [
    "# Your code here (add additional code cells if necessary)\n",
    "\n",
    "# Number 1\n",
    "\n",
    "file_ = open('f10k2022_rubicontech.txt')\n",
    "markov = Markov_text(file_)   # Creates the object markov using the file\n",
    "print(markov.generate_markov_text())   # Generate random text\n",
    "\n",
    "# Number 2\n",
    "\n",
    "class Markov_text_2:\n",
    "    def __init__(self, open_file):   # The single parameter passed is a file handle\n",
    "        self.cache = {}  # Will be dictionary mapping a key (two consecutive words) to possible next word\n",
    "        self.open_file = open_file\n",
    "        self.words = self.file_to_words()  # Read the words from the file into array self.words\n",
    "        self.word_size = len(self.words)\n",
    "        self.database()   # Fill in the dictionary\n",
    "       \n",
    "       \n",
    "    def file_to_words(self):\n",
    "        self.open_file.seek(0)\n",
    "        data = self.open_file.read()\n",
    "        words = data.split()\n",
    "        return words\n",
    "           \n",
    "       \n",
    "    def doubles(self):\n",
    "    #Generates triples from the given data string. So if our string were\n",
    "    # \"What a lovely day\", we'd generate (What, a, lovely) and then (a, lovely, day).\"\"\"\n",
    "           \n",
    "        if self.word_size < 2:\n",
    "            return\n",
    "         \n",
    "        for i in range(self.word_size - 1):\n",
    "            yield (self.words[i], self.words[i+1])    #Like return but returns a generator to be used once\n",
    "               \n",
    "    def database(self):\n",
    "        for w1, w2 in self.doubles():\n",
    "            key = (w1)\n",
    "            if key in self.cache:\n",
    "                self.cache[key].append(w2)\n",
    "            else:\n",
    "                self.cache[key] = [w2]\n",
    "                         \n",
    "    def generate_markov_text(self, size=100):\n",
    "        seed = np.random.randint(0, self.word_size-3)\n",
    "        w1 = self.words[seed]  # Initial key is (w1,w2)\n",
    "        gen_words = [w1]\n",
    "        for i in range(size):\n",
    "            w1 = np.random.choice(self.cache[(w1)])\n",
    "            gen_words.append(w1)\n",
    "        return ' '.join(gen_words)\n",
    "    \n",
    "markov2 = Markov_text_2(file_)   # Creates the object markov using the file\n",
    "print(markov2.generate_markov_text())   # Generate random text\n",
    "    \n",
    "class Markov_text_3:\n",
    "    def __init__(self, open_file):   # The single parameter passed is a file handle\n",
    "        self.cache = {}  # Will be dictionary mapping a key (two consecutive words) to possible next word\n",
    "        self.open_file = open_file\n",
    "        self.words = self.file_to_words()  # Read the words from the file into array self.words\n",
    "        self.word_size = len(self.words)\n",
    "        self.database()   # Fill in the dictionary\n",
    "       \n",
    "       \n",
    "    def file_to_words(self):\n",
    "        self.open_file.seek(0)\n",
    "        data = self.open_file.read()\n",
    "        words = data.split()\n",
    "        return words\n",
    "           \n",
    "       \n",
    "    def quartet(self):\n",
    "    #Generates triples from the given data string. So if our string were\n",
    "    # \"What a lovely day\", we'd generate (What, a, lovely) and then (a, lovely, day).\"\"\"\n",
    "           \n",
    "        if self.word_size < 4:\n",
    "            return\n",
    "         \n",
    "        for i in range(self.word_size - 3):\n",
    "            yield (self.words[i], self.words[i+1], self.words[i+2], self.words[i+3])    #Like return but returns a generator to be used once\n",
    "               \n",
    "    def database(self):\n",
    "        for w1, w2, w3, w4 in self.quartet():\n",
    "            key = (w1, w2, w3)\n",
    "            if key in self.cache:\n",
    "                self.cache[key].append(w4)\n",
    "            else:\n",
    "                self.cache[key] = [w4]\n",
    "                         \n",
    "    def generate_markov_text(self, size=100):\n",
    "        seed = np.random.randint(0, self.word_size-3)\n",
    "        w1, w2, w3 = self.words[seed], self.words[seed+1], self.words[seed+2]  # Initial key is (w1,w2)\n",
    "        gen_words = [w1,w2,w3]\n",
    "        for i in range(size):\n",
    "            w1, w2, w3 = w2, w3, np.random.choice(self.cache[(w1, w2, w3)])\n",
    "            gen_words.append(w3)\n",
    "        return ' '.join(gen_words)\n",
    "    \n",
    "markov3 = Markov_text_3(file_)   # Creates the object markov using the file\n",
    "print(markov3.generate_markov_text())   # Generate random text\n",
    "\n",
    "\n"
   ]
  },
  {
   "cell_type": "markdown",
   "metadata": {},
   "source": [
    "__Answer:__ Question 4: the Markov-3 is the most logical out of the 2 other Markov Chains, this is because the fact the 4th word is based on the previous 3 words"
   ]
  },
  {
   "cell_type": "markdown",
   "metadata": {},
   "source": [
    "**<SPAN style=\"BACKGROUND-COLOR: #C0C0C0\">End of Problem 2</SPAN>**"
   ]
  },
  {
   "cell_type": "markdown",
   "metadata": {},
   "source": [
    "## Random Graphs and Working with Graphs"
   ]
  },
  {
   "cell_type": "markdown",
   "metadata": {},
   "source": [
    "Markov chains that are time independent and finite can be represented really well by graphs. I'm sure you've used finite state machines to describe processes or sequences in some of your other classes. They can also be useful in analyzing or describing networks. Networkx is an extensive Python package for generating and analyzing graphs (the kind with nodes and edges) and can also plot them.  The following code adapted from the networkx webpage generates a random undirected graph by placing nodes at random locations within the unit square and connecting nodes together if their distance is less than a specified threshold."
   ]
  },
  {
   "cell_type": "code",
   "execution_count": 41,
   "metadata": {},
   "outputs": [
    {
     "name": "stdout",
     "output_type": "stream",
     "text": [
      "Graph with 100 nodes and 331 edges\n",
      "{0: [0.9936370511920369, 0.5159342934520517], 1: [0.8507764688231413, 0.9908512212737751], 2: [0.09172500084477064, 0.6669208043163711], 3: [0.7645369327291854, 0.942269540007765], 4: [0.8785146437101057, 0.4919147612144731], 5: [0.6731954086155262, 0.5887059765794542], 6: [0.40577587983731056, 0.9913383143491656], 7: [0.45557650281303674, 0.3239715138192796], 8: [0.14808255539081594, 0.5745317948617064], 9: [0.3664945612626167, 0.057334529490801645], 10: [0.252660337716738, 0.48911081662507194], 11: [0.7295323148749493, 0.4284849229722204], 12: [0.14421008267664903, 0.25817707647594124], 13: [0.9215845311104193, 0.43038205899905857], 14: [0.9089840847345486, 0.7041112068186504], 15: [0.7283295186777906, 0.8528681223279304], 16: [0.5845547086020564, 0.7553960205178204], 17: [0.9541507048783411, 0.23981104461995728], 18: [0.6015333651995457, 0.3433225485540501], 19: [0.5862291047678082, 0.27585035938966596], 20: [0.7563855000773742, 0.9425233818607841], 21: [0.516569394136157, 0.7079202777277013], 22: [0.09878710614695663, 0.21301662606024596], 23: [0.1514832205873673, 0.7345992327059182], 24: [0.7444934672284461, 0.7154144641034019], 25: [0.5500709255137255, 0.9195919763936028], 26: [0.16618588657414068, 0.38979591506350797], 27: [0.8934362333461648, 0.3957542908458972], 28: [0.021674016511299743, 0.17808812045025812], 29: [0.5812914281205875, 0.32936657529445257], 30: [0.32572261336851727, 0.9824338961430195], 31: [0.1761505205619056, 0.3008608663795932], 32: [0.9788159680113326, 0.7859529908812881], 33: [0.3228093320476807, 0.5447703320781084], 34: [0.49542055371611504, 0.012191748444752903], 35: [0.2938334735312965, 0.8774580596488692], 36: [0.20627280466516018, 0.21342781409458034], 37: [0.5905056403370338, 0.8509147305573301], 38: [0.5143658471023065, 0.5748855902540361], 39: [0.9916938952289609, 0.955936114226479], 40: [0.630024174867692, 0.08703580069282113], 41: [0.14895877854459938, 0.45502726430822715], 42: [0.8030248979465915, 0.5255880009363338], 43: [0.3301770728248221, 0.5547338466692555], 44: [0.7209645292867203, 0.7977085333514456], 45: [0.659839899708386, 0.3842306140274345], 46: [0.11180786267194665, 0.784581361273097], 47: [0.8614688095593346, 0.9199527908892994], 48: [0.7523413873633621, 0.1404443512006145], 49: [0.9654703017199054, 0.10256037169578192], 50: [0.4031924370710458, 0.5716203571825631], 51: [0.07004603173436641, 0.29254725101494305], 52: [0.4021641555785298, 0.24515296003801024], 53: [0.4474595556849261, 0.25101071810149633], 54: [0.8859309488282028, 0.5399173078465588], 55: [0.3857911883847358, 0.31842721392679585], 56: [0.5080774978481267, 0.2902466298062024], 57: [0.6131001702612403, 0.9706488265171348], 58: [0.7199325281190613, 0.9394275621884219], 59: [0.84172882523002, 0.40559258411214705], 60: [0.2537475967640406, 0.8547251202522788], 61: [0.8195395788477833, 0.23481416237737596], 62: [0.2639399874218755, 0.14213250032454428], 63: [0.7712263558619552, 0.3658878749340273], 64: [0.9494463315590774, 0.2211932683163056], 65: [0.07674441196776427, 0.1612297811561294], 66: [0.21738059115413122, 0.9174659635799544], 67: [0.9457536468580171, 0.32358877638183925], 68: [0.6900723120090186, 0.694228154948264], 69: [0.4401426076992506, 0.40846610778470527], 70: [0.7153227323149567, 0.03989121525132755], 71: [0.224631054964887, 0.6204765947740513], 72: [0.32409301930495604, 0.10079679264811181], 73: [0.8854518138533936, 0.43354407147020957], 74: [0.9467637148506042, 0.8435284885615905], 75: [0.7515077671179171, 0.2325358876281567], 76: [0.26577238943354387, 0.4677394807675056], 77: [0.9153458192700624, 0.9693041218581476], 78: [0.9250129964784041, 0.9755050889861714], 79: [0.30215003831088283, 0.644497743425864], 80: [0.3881974642479735, 0.8778603359686357], 81: [0.6360561148999199, 0.30389039491364156], 82: [0.8846337097940115, 0.6909984504676153], 83: [0.4262272782606711, 0.7372491145973658], 84: [0.47985816808963244, 0.9468260173784095], 85: [0.5605593141022299, 0.37924561079964925], 86: [0.686658513832021, 0.21251104705521617], 87: [0.08138879077612837, 0.19954780779644987], 88: [0.4982820852518256, 0.9831807422680204], 89: [0.46463120236636957, 0.059497770267445405], 90: [0.36482759562067024, 0.3391105287315128], 91: [0.5578124364652131, 0.7992041126906938], 92: [0.3411886062082785, 0.22831426926468978], 93: [0.6784824700784752, 0.3410043625544099], 94: [0.5700073215388685, 0.18264987426110346], 95: [0.47775490107926044, 0.45743181417636725], 96: [0.27115701828625827, 0.038331949329482695], 97: [0.2402022062462894, 0.6891407141437603], 98: [0.6159200446956814, 0.7309254930397291], 99: [0.5544500002188225, 0.12234683094113286]}\n",
      "The center node is located at: 0.47775490107926044 , 0.45743181417636725\n",
      "The graph is connected\n"
     ]
    },
    {
     "data": {
      "image/png": "[encoded data removed]",
      "text/plain": [
       "<Figure size 576x576 with 1 Axes>"
      ]
     },
     "metadata": {},
     "output_type": "display_data"
    }
   ],
   "source": [
    "#import networkx as nx  DEBUGGING\n",
    "\n",
    "d=0.16 # distance threshold, pairs of nodes within distance d are connected by an edge\n",
    "G=nx.random_geometric_graph(100,d)  #100 nodes in unit square, distance threshold d\n",
    "# position is stored as node attribute data for random_geometric_graph\n",
    "pos=nx.get_node_attributes(G,'pos')  # pos is a dictionary, with the indices as keys, ranging from 0 to 99\n",
    "\n",
    "print(G)\n",
    "print(pos)\n",
    "\n",
    "# find node nearest to (0.5,0.5), called the center node\n",
    "dmin=1\n",
    "ncenter=0\n",
    "for n in pos:\n",
    "    x,y=pos[n]\n",
    "    d=(x-0.5)**2+(y-0.5)**2\n",
    "    if d<dmin:\n",
    "        ncenter=n\n",
    "        dmin=d\n",
    "\n",
    "print ('The center node is located at:', pos[ncenter][0], ',', pos[ncenter][1])\n",
    "# color by path length from node near center\n",
    "p=nx.single_source_shortest_path_length(G,ncenter)  #p is dictionary: keys are nodes, values are distances to center\n",
    "                                                    #Node not connected to the center node are not listed in p.\n",
    "                                                    # p include the center node itself.\n",
    "\n",
    "if nx.is_connected(G):   # The Networkx method is_connected checks for connectness\n",
    "    print (\"The graph is connected\")\n",
    "else: print (\"The graph is not connected\")\n",
    "\n",
    "plt.figure(figsize=(8,8))\n",
    "# nx.draw_networkx_edges(G,pos,nodelist=[ncenter],alpha=0.4)  #All edges are drwn\n",
    "nx.draw_networkx_edges(G,pos,alpha=0.4)  #All edges are drwn\n",
    "nx.draw_networkx_nodes(G,pos,alpha=0.3,node_size=80)  #All nodes are drawn but nearly transparent\n",
    "nx.draw_networkx_nodes(G,pos,nodelist=p.keys(),   # Nodes connected to center node are drawn, closer nodes have darker color\n",
    "                       node_size=80)\n",
    "\n",
    "plt.xlim(-0.05,1.05)\n",
    "plt.ylim(-0.05,1.05)\n",
    "plt.axis('off')\n",
    "plt.savefig('random_geometric_graph.png')\n",
    "plt.show()"
   ]
  },
  {
   "cell_type": "markdown",
   "metadata": {},
   "source": [
    "Excellent documentation for NetworkX is available online (search for NetworkX documentation). We find a plethora of classes for generating both undirected graphs (no arrows on the edges) and directed graphs.   Run the code in the above cell a few dozen times, and see how often the graph generated is *connected*, meaning that there is a path through the graph from any node to any other node.   One way a graph could be not connnected is to have an isolated node, which is a node with no neighbors.   Also, try changing the value of the threshold d and seeing the effect on connectivity.\n",
    "\n",
    "<br>**<SPAN style=\"BACKGROUND-COLOR: #C0C0C0\">Problem 3:</SPAN>**   Estimate the probability of connectivity for the above model (100 nodes at random locations in unit square with edges between pairs of nodes at distance d or smaller) for values of d in 0.10, 0.11, . . . , 0.20 by generating 1000 instances for each d and seeing the fraction of them that are connected. Is there a sort of threshold where the odds of a connected graph jumps significantly?"
   ]
  },
  {
   "cell_type": "code",
   "execution_count": 44,
   "metadata": {},
   "outputs": [
    {
     "name": "stdout",
     "output_type": "stream",
     "text": [
      "[0.0, 0.0, 0.001, 0.014, 0.094, 0.317, 0.513, 0.681, 0.802, 0.866, 0.922]\n"
     ]
    }
   ],
   "source": [
    "# Your code here\n",
    "\n",
    "list_of_d = [0.10, 0.11, 0.12, 0.13, 0.14, 0.15, 0.16, 0.17, 0.18, 0.19, 0.20]\n",
    "probabilities = []\n",
    "for i in list_of_d:\n",
    "    connected = 0\n",
    "    for j in range(0, 1001):\n",
    "        G=nx.random_geometric_graph(100,i)  #100 nodes in unit square, distance threshold d\n",
    "        # position is stored as node attribute data for random_geometric_graph\n",
    "        pos=nx.get_node_attributes(G,'pos')  # pos is a dictionary, with the indices as keys, ranging from 0 to 99\n",
    "\n",
    "# # find node nearest to (0.5,0.5), called the center node\n",
    "#         dmin=1\n",
    "#         ncenter=0\n",
    "#         for n in pos:\n",
    "#             x,y=pos[n]\n",
    "#             d=(x-0.5)**2+(y-0.5)**2\n",
    "#             if d<dmin:\n",
    "#                 ncenter=n\n",
    "#             dmin=d\n",
    "\n",
    "#         print ('The center node is located at:', pos[ncenter][0], ',', pos[ncenter][1])\n",
    "# # color by path length from node near center\n",
    "#         p=nx.single_source_shortest_path_length(G,ncenter)  #p is dictionary: keys are nodes, values are distances to center\n",
    "#                                                     #Node not connected to the center node are not listed in p.\n",
    "#                                                     # p include the center node itself.\n",
    "\n",
    "        if nx.is_connected(G):   # The Networkx method is_connected checks for connectness\n",
    "            connected += 1\n",
    "    probabilities.append(connected/1000)\n",
    "\n",
    "print(probabilities)\n",
    "        "
   ]
  },
  {
   "cell_type": "markdown",
   "metadata": {},
   "source": [
    "__Answer:__ from 0.14 to 0.15, 0.15 to 0.16, there is a very significant difference in probability."
   ]
  },
  {
   "cell_type": "markdown",
   "metadata": {},
   "source": [
    "**<SPAN style=\"BACKGROUND-COLOR: #C0C0C0\">End of Problem 3</SPAN>**"
   ]
  },
  {
   "cell_type": "markdown",
   "metadata": {},
   "source": [
    "The probability of connectivity can be approximately computed analytically as follows.  You might have noticed in the simulations that the main cause of disconnectivity is having at least one isolated node (no neighbors).\n",
    "\n",
    "<br>**<SPAN style=\"BACKGROUND-COLOR: #C0C0C0\">Problem 4:</SPAN>**   Consider the same model.  Imagine that 100 nodes, numbered from 1 to 100, are independently placed in the unit square with a uniform distribution for each node, and then edges are placed between pairs of nodes at distance d or smaller.  Except for the second half of the fourth part below, your answers should be an expression involving $d.$   No computation is required.\n",
    "<ol><li> Focus on node 1. Suppose for simplicity it is not near the boundary of the square, so the entire disk of radius $d$ around the node is in the square.   What is the probability that a given other node (say, node 2) is *not* within distance $d$ of node 1?\n",
    "<li>  What is the probability node 1 is isolated (i.e. *none* of the other nodes is within distance $d$ of node 1)?\n",
    "<li>  What is the expected number of isolated nodes?\n",
    "<li>  Assume (this is a reasonable approximation) the total number of isolated nodes has the Poisson distribution with mean given by the answer to the previous problem part.   What is the probability that there are no isolated nodes?\n",
    "Compute the numerical values for  d in 0.10, 0.11, . . . , 0.20 and compare to the estimated probability the\n",
    "graph is connected in Problem 3. </ol>"
   ]
  },
  {
   "cell_type": "markdown",
   "metadata": {
    "collapsed": true
   },
   "source": [
    "__Answer:__ \n",
    "\n",
    "1. Another node that is not within distance d of node 1 is $1-p_id^2$\n",
    "2. $(1-p_id^2)^{99}$\n",
    "3. $100(1-p_id^2)^{99}$\n",
    "4. THe probability dont really match up because in problem 3, for 0.10 to 0.11, the probability is 0"
   ]
  },
  {
   "cell_type": "code",
   "execution_count": 45,
   "metadata": {
    "collapsed": true
   },
   "outputs": [
    {
     "name": "stdout",
     "output_type": "stream",
     "text": [
      "0.014375382556273152\n",
      "0.11573548129613277\n",
      "0.35976906692722066\n",
      "0.6368236824267614\n",
      "0.8309712238173423\n",
      "0.9319422565913525\n",
      "0.9754666715905875\n",
      "0.9919479603219504\n",
      "0.9975789752005879\n",
      "0.999332667029149\n",
      "0.9998316800547294\n"
     ]
    }
   ],
   "source": [
    "# Your code here (if necessary)\n",
    "\n",
    "list_of_d = [0.10, 0.11, 0.12, 0.13, 0.14, 0.15, 0.16, 0.17, 0.18, 0.19, 0.20]\n",
    "for d in list_of_d:\n",
    "    rv = st.poisson(100*(1-np.pi*d**2)**99)\n",
    "    print(rv.pmf(0))\n"
   ]
  },
  {
   "cell_type": "markdown",
   "metadata": {},
   "source": [
    "**<SPAN style=\"BACKGROUND-COLOR: #C0C0C0\">End of Problem 4</SPAN>**"
   ]
  },
  {
   "cell_type": "markdown",
   "metadata": {},
   "source": [
    "## Lab Questions:"
   ]
  },
  {
   "cell_type": "markdown",
   "metadata": {},
   "source": [
    "Make sure to complete all lab questions 1-4 for this weeks lab."
   ]
  },
  {
   "cell_type": "markdown",
   "metadata": {},
   "source": [
    "<div class=\"alert alert-block alert-warning\"> \n",
    "## Academic Integrity Statement ##\n",
    "\n",
    "By submitting the lab with this statement, you declare you have written up the lab entirely by yourself, including both code and markdown cells. You also agree that you should not share your code with anyone else. Any violation of the academic integrity requirement may cause an academic integrity report to be filed that could go into your student record. See <a href=\"https://provost.illinois.edu/policies/policies/academic-integrity/students-quick-reference-guide-to-academic-integrity/\">Students' Quick Reference Guide to Academic Integrity</a> for more information. "
   ]
  }
 ],
 "metadata": {
  "anaconda-cloud": {},
  "kernelspec": {
   "display_name": "Python 3",
   "language": "python",
   "name": "python3"
  },
  "language_info": {
   "codemirror_mode": {
    "name": "ipython",
    "version": 3
   },
   "file_extension": ".py",
   "mimetype": "text/x-python",
   "name": "python",
   "nbconvert_exporter": "python",
   "pygments_lexer": "ipython3",
   "version": "3.10.11"
  }
 },
 "nbformat": 4,
 "nbformat_minor": 1
}
